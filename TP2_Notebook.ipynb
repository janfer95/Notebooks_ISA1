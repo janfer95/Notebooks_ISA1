{
 "cells": [
  {
   "cell_type": "markdown",
   "id": "e0477150-3986-4298-8ca8-f9fbf9647c62",
   "metadata": {},
   "source": [
    "# TP2: Structures conditionelles et Boucles\n",
    "\n",
    "In this part of the lecture we're going to look at so-called if and else statements (si et sinon en français) and loops (boucles). \n",
    "\n",
    "## 1. Opérateurs de comparaison\n",
    "As a good starting point, we'll look first at how we can compare two variables in our Python program. They are relatively intuitive and I'm sure that you're going to learn them quickly. \n",
    "\n",
    "Here's a list (see also the PDF in the course material):\n",
    "- == égal à \n",
    "- != différent de\n",
    "- < inférieur à\n",
    "- $>$ supérieur à\n",
    "- <= inférieur ou égal à\n",
    "- $\\geq$ supérieur ou égal à\n",
    "\n",
    "Not too difficult, right? An important thing to note is that if we compare two variables with one of those operators, we will receive one of two possible values. If the statement is true, like `2 == 2`, then Python will say `True`. Not surprisingly, if we ask `2 == 3`, then Python will answer `False`. Let's look at some examples."
   ]
  },
  {
   "cell_type": "code",
   "execution_count": 1,
   "id": "d48a1ef8-49d8-4245-96bd-f7771b5e64a1",
   "metadata": {},
   "outputs": [
    {
     "data": {
      "text/plain": [
       "True"
      ]
     },
     "execution_count": 1,
     "metadata": {},
     "output_type": "execute_result"
    }
   ],
   "source": [
    "a = 3\n",
    "b = 5\n",
    "\n",
    "b - a == 2"
   ]
  },
  {
   "cell_type": "markdown",
   "id": "f5332678-a511-480f-b39e-2bd6333c70cf",
   "metadata": {},
   "source": [
    "Okay, no surprises here. What if we want to know, if a and b are not the same? Easy:"
   ]
  },
  {
   "cell_type": "code",
   "execution_count": 2,
   "id": "878f0f2a-a1de-48f4-b451-87b898244ea7",
   "metadata": {},
   "outputs": [
    {
     "data": {
      "text/plain": [
       "True"
      ]
     },
     "execution_count": 2,
     "metadata": {},
     "output_type": "execute_result"
    }
   ],
   "source": [
    "a != b"
   ]
  },
  {
   "cell_type": "code",
   "execution_count": 3,
   "id": "87263f82-f1b1-4b15-9b1d-6e06e61c85b6",
   "metadata": {},
   "outputs": [
    {
     "data": {
      "text/plain": [
       "False"
      ]
     },
     "execution_count": 3,
     "metadata": {},
     "output_type": "execute_result"
    }
   ],
   "source": [
    "a == b"
   ]
  },
  {
   "cell_type": "code",
   "execution_count": 4,
   "id": "8130216f-cfdd-4611-9243-27ec6063d999",
   "metadata": {},
   "outputs": [
    {
     "data": {
      "text/plain": [
       "False"
      ]
     },
     "execution_count": 4,
     "metadata": {},
     "output_type": "execute_result"
    }
   ],
   "source": [
    "b <= a"
   ]
  },
  {
   "cell_type": "markdown",
   "id": "7569ae69-d808-4e63-8218-9ed146efd2dd",
   "metadata": {},
   "source": [
    "Now we can combine this with logical operators like `or` and `and`. As a reminder, if we use `and` in our condition, the result will be only `True`, if condition1 **and** condition2 are `True`. Otherwise, the result will always be false. \n",
    "\n",
    "On the other hand, if we use `or`, the result will always be `True` if either condition1 **or** condition2 will be `True` (or both of them). In action it looks like this:"
   ]
  },
  {
   "cell_type": "code",
   "execution_count": 6,
   "id": "0f5840f5-4e78-4746-90ad-1b13eab69c3b",
   "metadata": {},
   "outputs": [
    {
     "data": {
      "text/plain": [
       "True"
      ]
     },
     "execution_count": 6,
     "metadata": {},
     "output_type": "execute_result"
    }
   ],
   "source": [
    "# True, since first condition is True\n",
    "a != b or a > b "
   ]
  },
  {
   "cell_type": "code",
   "execution_count": 8,
   "id": "8def0ab8-ac28-4290-99a3-399c4a2f9644",
   "metadata": {},
   "outputs": [
    {
     "data": {
      "text/plain": [
       "False"
      ]
     },
     "execution_count": 8,
     "metadata": {},
     "output_type": "execute_result"
    }
   ],
   "source": [
    "# False, since second condition is False\n",
    "a != b and a > b"
   ]
  },
  {
   "cell_type": "code",
   "execution_count": null,
   "id": "1f9cbb23-52a5-4fe4-b994-8e0bf29fddc4",
   "metadata": {},
   "outputs": [],
   "source": []
  }
 ],
 "metadata": {
  "kernelspec": {
   "display_name": "Python 3 (ipykernel)",
   "language": "python",
   "name": "python3"
  },
  "language_info": {
   "codemirror_mode": {
    "name": "ipython",
    "version": 3
   },
   "file_extension": ".py",
   "mimetype": "text/x-python",
   "name": "python",
   "nbconvert_exporter": "python",
   "pygments_lexer": "ipython3",
   "version": "3.9.6"
  }
 },
 "nbformat": 4,
 "nbformat_minor": 5
}
