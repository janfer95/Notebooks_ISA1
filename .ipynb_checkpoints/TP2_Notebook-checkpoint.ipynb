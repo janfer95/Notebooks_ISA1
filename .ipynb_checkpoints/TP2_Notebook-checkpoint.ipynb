{
 "cells": [
  {
   "cell_type": "markdown",
   "id": "e0477150-3986-4298-8ca8-f9fbf9647c62",
   "metadata": {},
   "source": [
    "# TP2: Structures conditionelles et Boucles\n",
    "\n",
    "In this part of the lecture we're going to look at so-called if and else statements (si et sinon en français) and loops (boucles). \n",
    "\n",
    "## 1. Opérateurs de comparaison\n",
    "As a good starting point, we'll look first at how we can compare two variables in our Python program. They are relatively intuitive and I'm sure that you're going to learn them quickly. \n",
    "\n",
    "Here's a list (see also the PDF in the course material):\n",
    "- == égal à \n",
    "- != différent de\n",
    "- < inférieur à\n",
    "- $>$ supérieur à\n",
    "- <= inférieur ou égal à\n",
    "- $\\geq$ supérieur ou égal à\n",
    "\n",
    "Not too difficult, right? An important thing to note is that if we compare two variables with one of those operators, we will receive one of two possible values. If the statement is true, like `2 == 2`, then Python will say `True`. Not surprisingly, if we ask `2 == 3`, then Python will answer `False`. Let's look at some examples."
   ]
  },
  {
   "cell_type": "code",
   "execution_count": 1,
   "id": "d48a1ef8-49d8-4245-96bd-f7771b5e64a1",
   "metadata": {},
   "outputs": [
    {
     "data": {
      "text/plain": [
       "True"
      ]
     },
     "execution_count": 1,
     "metadata": {},
     "output_type": "execute_result"
    }
   ],
   "source": [
    "a = 3\n",
    "b = 5\n",
    "\n",
    "b - a == 2"
   ]
  },
  {
   "cell_type": "markdown",
   "id": "f5332678-a511-480f-b39e-2bd6333c70cf",
   "metadata": {},
   "source": [
    "Okay, no surprises here. What if we want to know, if a and b are not the same? Easy:"
   ]
  },
  {
   "cell_type": "code",
   "execution_count": 2,
   "id": "878f0f2a-a1de-48f4-b451-87b898244ea7",
   "metadata": {},
   "outputs": [
    {
     "data": {
      "text/plain": [
       "True"
      ]
     },
     "execution_count": 2,
     "metadata": {},
     "output_type": "execute_result"
    }
   ],
   "source": [
    "a != b"
   ]
  },
  {
   "cell_type": "code",
   "execution_count": 3,
   "id": "87263f82-f1b1-4b15-9b1d-6e06e61c85b6",
   "metadata": {},
   "outputs": [
    {
     "data": {
      "text/plain": [
       "False"
      ]
     },
     "execution_count": 3,
     "metadata": {},
     "output_type": "execute_result"
    }
   ],
   "source": [
    "a == b"
   ]
  },
  {
   "cell_type": "code",
   "execution_count": 4,
   "id": "8130216f-cfdd-4611-9243-27ec6063d999",
   "metadata": {},
   "outputs": [
    {
     "data": {
      "text/plain": [
       "False"
      ]
     },
     "execution_count": 4,
     "metadata": {},
     "output_type": "execute_result"
    }
   ],
   "source": [
    "b <= a"
   ]
  },
  {
   "cell_type": "markdown",
   "id": "7569ae69-d808-4e63-8218-9ed146efd2dd",
   "metadata": {},
   "source": [
    "Now we can combine this with logical operators like `or` and `and`. As a reminder, if we use `and` in our condition, the result will be only `True`, if condition1 **and** condition2 are `True`. Otherwise, the result will always be false. \n",
    "\n",
    "On the other hand, if we use `or`, the result will always be `True` if either condition1 **or** condition2 will be `True` (or both of them). In action it looks like this:"
   ]
  },
  {
   "cell_type": "code",
   "execution_count": 5,
   "id": "0f5840f5-4e78-4746-90ad-1b13eab69c3b",
   "metadata": {},
   "outputs": [
    {
     "data": {
      "text/plain": [
       "True"
      ]
     },
     "execution_count": 5,
     "metadata": {},
     "output_type": "execute_result"
    }
   ],
   "source": [
    "# True, since first condition is True\n",
    "a != b or a > b "
   ]
  },
  {
   "cell_type": "code",
   "execution_count": 6,
   "id": "8def0ab8-ac28-4290-99a3-399c4a2f9644",
   "metadata": {},
   "outputs": [
    {
     "data": {
      "text/plain": [
       "False"
      ]
     },
     "execution_count": 6,
     "metadata": {},
     "output_type": "execute_result"
    }
   ],
   "source": [
    "# False, since second condition is False\n",
    "a != b and a > b"
   ]
  },
  {
   "cell_type": "markdown",
   "id": "2778e410-cb87-4d8e-a34e-27fa8cbe9b3c",
   "metadata": {},
   "source": [
    "## 2. Structures Conditionelles\n",
    "We now can use the logical operators to execute certain parts of the code only if a specified condition is fulfilled. Let's imagine we want our program to print a number only when it is even. All we have to do is to tell the program, if x modulo 2 is 0, then print the number. Let's see it in example!  \n",
    "\n",
    "### Instruction if\n",
    "For the example mentioned above, we want to execute a part of the code only **IF** a certain condition is fulfilled. Luckily, we have the Python keyword `if`, that does exactly that:"
   ]
  },
  {
   "cell_type": "code",
   "execution_count": 7,
   "id": "9ed1a65d-3d5e-4dfb-b1a9-e243e6e6bb81",
   "metadata": {},
   "outputs": [],
   "source": [
    "x = 15\n",
    "if x%2 == 0:\n",
    "    print(x, \"is even\")"
   ]
  },
  {
   "cell_type": "markdown",
   "id": "5cfee6c0-476e-4c5c-a43e-51a0dd2b486d",
   "metadata": {},
   "source": [
    "Well, not surprisingly, nothing happens, since 15 is not even. Let's try an even number:"
   ]
  },
  {
   "cell_type": "code",
   "execution_count": 8,
   "id": "169006fe-b045-4e1d-b4e2-ce4e0b084ebe",
   "metadata": {},
   "outputs": [
    {
     "name": "stdout",
     "output_type": "stream",
     "text": [
      "42 is even\n"
     ]
    }
   ],
   "source": [
    "x = 42\n",
    "if x%2 == 0:\n",
    "    print(x, \"is even\")"
   ]
  },
  {
   "cell_type": "markdown",
   "id": "719d3b7f-afb6-42d9-85d6-4b0006c53618",
   "metadata": {},
   "source": [
    "Much better! So we see that the part `print(x, \"is even\")` is **only** executed when the condition is fulfilled. Also important: Note the \":\" after the condition `x%2 == 0`! This is important for Python, so that the program knows when the condition is over. Also, for readability, the next line after the condition is indented (=has a TAB space in front of it). If we forget this space, Python gives us an error:"
   ]
  },
  {
   "cell_type": "code",
   "execution_count": 9,
   "id": "9a7659f3-65bc-4c4a-a304-417eb10b4321",
   "metadata": {},
   "outputs": [
    {
     "ename": "IndentationError",
     "evalue": "expected an indented block (3529394502.py, line 3)",
     "output_type": "error",
     "traceback": [
      "\u001b[0;36m  File \u001b[0;32m\"/tmp/ipykernel_13287/3529394502.py\"\u001b[0;36m, line \u001b[0;32m3\u001b[0m\n\u001b[0;31m    print(x, \"is even\")\u001b[0m\n\u001b[0m    ^\u001b[0m\n\u001b[0;31mIndentationError\u001b[0m\u001b[0;31m:\u001b[0m expected an indented block\n"
     ]
    }
   ],
   "source": [
    "x = 42\n",
    "if x%2 == 0:\n",
    "print(x, \"is even\")"
   ]
  },
  {
   "cell_type": "markdown",
   "id": "fccabd8d-71db-4c1f-9c6d-27608b7b26d0",
   "metadata": {},
   "source": [
    "The indented block helps Python to know the extent of the code that is supposed to be executed. Sounds difficult, but here is an example to make it clear. "
   ]
  },
  {
   "cell_type": "code",
   "execution_count": 10,
   "id": "3fa481ba-4ca7-4f32-8d71-0297590a860d",
   "metadata": {},
   "outputs": [
    {
     "name": "stdout",
     "output_type": "stream",
     "text": [
      "42 is even\n",
      "You can only see me if the condition is true!\n",
      "You can always see me!\n"
     ]
    }
   ],
   "source": [
    "x = 42\n",
    "if x%2 == 0:\n",
    "    print(x, \"is even\")\n",
    "    print(\"You can only see me if the condition is true!\")\n",
    "\n",
    "print(\"You can always see me!\")"
   ]
  },
  {
   "cell_type": "markdown",
   "id": "02304521-a503-4868-b70f-0d53aa73ca6d",
   "metadata": {},
   "source": [
    "And if we execute the same code, but with an odd number we get:"
   ]
  },
  {
   "cell_type": "code",
   "execution_count": 11,
   "id": "6477239e-c60c-488c-bed5-e752f377800c",
   "metadata": {},
   "outputs": [
    {
     "name": "stdout",
     "output_type": "stream",
     "text": [
      "You can always see me!\n"
     ]
    }
   ],
   "source": [
    "x = 43\n",
    "if x%2 == 0:\n",
    "    print(x, \"is even\")\n",
    "    print(\"You can only see me if the condition is true!\")\n",
    "\n",
    "print(\"You can always see me!\")"
   ]
  },
  {
   "cell_type": "markdown",
   "id": "93c5c4e8-57f2-426d-9567-0e0a71e1f1bf",
   "metadata": {},
   "source": [
    "Once again, everything inside the if condition is ignored, if the condition is not true. "
   ]
  },
  {
   "cell_type": "markdown",
   "id": "6ad00b3f-503b-4666-b3c3-4b3f2dc2c3f8",
   "metadata": {},
   "source": [
    "## Instruction if... else\n",
    "What if we want to specify another code of block that should be executed if the if condition is not met? Let's say, if the number is even, print that it is even, if the number is odd, print that the number is odd. We can do this by specifying an `else` condition after if:"
   ]
  },
  {
   "cell_type": "code",
   "execution_count": 12,
   "id": "5ce9cc6d-03a3-4982-81e5-bd3c5d270819",
   "metadata": {},
   "outputs": [
    {
     "name": "stdout",
     "output_type": "stream",
     "text": [
      "43 is odd\n"
     ]
    }
   ],
   "source": [
    "x = 43\n",
    "if x%2 == 0:\n",
    "    print(x, \"is even\")\n",
    "else:\n",
    "    print(x, \"is odd\")"
   ]
  },
  {
   "cell_type": "markdown",
   "id": "249faacd-780d-4a8d-9a94-e9a521d0d1ac",
   "metadata": {},
   "source": [
    "Works like a charm! Let's verify with an even number:"
   ]
  },
  {
   "cell_type": "code",
   "execution_count": 13,
   "id": "d6831bd6-a2d7-4cdf-8fa4-da273ea47c7c",
   "metadata": {},
   "outputs": [
    {
     "name": "stdout",
     "output_type": "stream",
     "text": [
      "42 is even\n"
     ]
    }
   ],
   "source": [
    "x = 42\n",
    "if x%2 == 0:\n",
    "    print(x, \"is even\")\n",
    "else:\n",
    "    print(x, \"is odd\")"
   ]
  },
  {
   "cell_type": "markdown",
   "id": "5e6e8d41-863e-4e25-8877-d573cd5e6a17",
   "metadata": {},
   "source": [
    "Perfect, just as we expected. "
   ]
  },
  {
   "cell_type": "markdown",
   "id": "db1b86f5-4d82-4526-9c36-43b0f4166b2d",
   "metadata": {},
   "source": [
    "## Instruction elif\n",
    "Apart from that we also have the possibility of specifying the conditions even further and have multiple cases with the keyword `elif`. Let's see it in action!"
   ]
  },
  {
   "cell_type": "code",
   "execution_count": 14,
   "id": "2b2db29d-c8d4-404e-a8b7-00b307f40354",
   "metadata": {},
   "outputs": [
    {
     "name": "stdin",
     "output_type": "stream",
     "text": [
      "Enter a number 15\n"
     ]
    },
    {
     "name": "stdout",
     "output_type": "stream",
     "text": [
      "The number is positive\n"
     ]
    }
   ],
   "source": [
    "num = int(input(\"Enter a number\"))\n",
    "\n",
    "if num > 0:\n",
    "    print(\"The number is positive\")\n",
    "elif num == 0:\n",
    "    print(\"The number is zero\")\n",
    "else:\n",
    "    print(\"The number is negative\")"
   ]
  },
  {
   "cell_type": "code",
   "execution_count": 15,
   "id": "fe77554c-7d44-4727-ad78-a29cae0bdd9e",
   "metadata": {},
   "outputs": [
    {
     "name": "stdin",
     "output_type": "stream",
     "text": [
      "Enter a number -10\n"
     ]
    },
    {
     "name": "stdout",
     "output_type": "stream",
     "text": [
      "The number is negative\n"
     ]
    }
   ],
   "source": [
    "num = int(input(\"Enter a number\"))\n",
    "\n",
    "if num > 0:\n",
    "    print(\"The number is positive\")\n",
    "elif num == 0:\n",
    "    print(\"The number is zero\")\n",
    "else:\n",
    "    print(\"The number is negative\")"
   ]
  },
  {
   "cell_type": "markdown",
   "id": "2dc47efa-c1e2-4f2f-9c0b-392c118c6113",
   "metadata": {},
   "source": [
    "All of this works with strings, by the way!"
   ]
  },
  {
   "cell_type": "code",
   "execution_count": 16,
   "id": "e0b4b2ed-6faf-4de7-90fc-3c5ff0ba89e8",
   "metadata": {},
   "outputs": [
    {
     "name": "stdin",
     "output_type": "stream",
     "text": [
      "Enter a message: Hello\n"
     ]
    },
    {
     "name": "stdout",
     "output_type": "stream",
     "text": [
      "Hello, I hope you are doing well!\n"
     ]
    }
   ],
   "source": [
    "message = input(\"Enter a message:\")\n",
    "\n",
    "if message == \"Hello\":\n",
    "    print(\"Hello, I hope you are doing well!\")\n",
    "elif message == \"How are you?\":\n",
    "    print(\"I'm very good, thanks for asking.\")\n",
    "elif message == \"What is your favorite number?\":\n",
    "    print(\"Hmm, I think 13 or 42\")\n",
    "else:\n",
    "    print(\"Sorry, I don't know what to say\")"
   ]
  },
  {
   "cell_type": "code",
   "execution_count": 17,
   "id": "6dd03333-1d5e-4472-91c4-f9ec493214b3",
   "metadata": {},
   "outputs": [
    {
     "name": "stdin",
     "output_type": "stream",
     "text": [
      "Enter a message: How are you?\n"
     ]
    },
    {
     "name": "stdout",
     "output_type": "stream",
     "text": [
      "I'm very good, thanks for asking.\n"
     ]
    }
   ],
   "source": [
    "message = input(\"Enter a message:\")\n",
    "\n",
    "if message == \"Hello\":\n",
    "    print(\"Hello, I hope you are doing well!\")\n",
    "elif message == \"How are you?\":\n",
    "    print(\"I'm very good, thanks for asking.\")\n",
    "elif message == \"What is your favorite number?\":\n",
    "    print(\"Hmm, I think 13 or 42\")\n",
    "else:\n",
    "    print(\"Sorry, I don't know what to say\")"
   ]
  },
  {
   "cell_type": "code",
   "execution_count": 18,
   "id": "1306305d-06d7-43dd-9502-95015aa0f46d",
   "metadata": {},
   "outputs": [
    {
     "name": "stdin",
     "output_type": "stream",
     "text": [
      "Enter a message: Are you okay?\n"
     ]
    },
    {
     "name": "stdout",
     "output_type": "stream",
     "text": [
      "Sorry, I don't know what to say\n"
     ]
    }
   ],
   "source": [
    "message = input(\"Enter a message:\")\n",
    "\n",
    "if message == \"Hello\":\n",
    "    print(\"Hello, I hope you are doing well!\")\n",
    "elif message == \"How are you?\":\n",
    "    print(\"I'm very good, thanks for asking.\")\n",
    "elif message == \"What is your favorite number?\":\n",
    "    print(\"Hmm, I think 13 or 42\")\n",
    "else:\n",
    "    print(\"Sorry, I don't know what to say\")"
   ]
  },
  {
   "cell_type": "markdown",
   "id": "7b0c68b1-f609-489d-aa2b-54babca1b30c",
   "metadata": {},
   "source": [
    "## 3. Boucles (Loops)\n",
    "Loops allow to repeat a certain instruction, for either a given number of times (for-loop) or until a certain condition is true (while-loop). Here the best is really to just look an example.  "
   ]
  },
  {
   "cell_type": "code",
   "execution_count": 19,
   "id": "eae1bc53-fc5c-4fd4-adab-c730eb15841c",
   "metadata": {},
   "outputs": [
    {
     "name": "stdout",
     "output_type": "stream",
     "text": [
      "x a pour valeur: 0\n",
      "x a pour valeur: 1\n",
      "x a pour valeur: 2\n",
      "x a pour valeur: 3\n",
      "x a pour valeur: 4\n"
     ]
    }
   ],
   "source": [
    "for x in range(5):\n",
    "    print(\"x a pour valeur:\", x)"
   ]
  },
  {
   "cell_type": "markdown",
   "id": "063892bb-3af8-4e79-b070-a3f2ad7653cd",
   "metadata": {},
   "source": [
    "The first thing that we notice is that the cell prints 5 lines. So we repeated an action 5 times. We can also see that `x` changes its value from 0 to 4. This is probably the most unusual about the cell above. We wrote range(5), but Python does not count from 1 to 5, but rather starts at 0 and then goes only to one less than 5, that is 4. This may seem strange at first, but the advantage will become clear later. One thing to notice is that even though range goes only from 0 to 4, it still prints 5 elements! \n",
    "\n",
    "We can also give some extra information to range, to adjust it to our purposes. For example, we can say, where we want range to start:"
   ]
  },
  {
   "cell_type": "code",
   "execution_count": 20,
   "id": "2348b5d3-ffed-4b4a-9305-a3691c14cc55",
   "metadata": {},
   "outputs": [
    {
     "name": "stdout",
     "output_type": "stream",
     "text": [
      "x a pour valeur: 3\n",
      "x a pour valeur: 4\n",
      "x a pour valeur: 5\n",
      "x a pour valeur: 6\n",
      "x a pour valeur: 7\n"
     ]
    }
   ],
   "source": [
    "for x in range(3, 8):\n",
    "    print(\"x a pour valeur:\", x)"
   ]
  },
  {
   "cell_type": "markdown",
   "id": "bc54f5a2-8fbb-4c20-80f0-924386dd3feb",
   "metadata": {},
   "source": [
    "So the first number defines where range starts. We can also change the step size from 1 to anything that we like. Let's say we want only odd numbers: "
   ]
  },
  {
   "cell_type": "code",
   "execution_count": 21,
   "id": "ce4c7342-360c-448c-859f-ce7068fa0688",
   "metadata": {},
   "outputs": [
    {
     "name": "stdout",
     "output_type": "stream",
     "text": [
      "x a pour valeur: 1\n",
      "x a pour valeur: 3\n",
      "x a pour valeur: 5\n",
      "x a pour valeur: 7\n",
      "x a pour valeur: 9\n"
     ]
    }
   ],
   "source": [
    "for x in range(1, 10, 2):\n",
    "    print(\"x a pour valeur:\", x)"
   ]
  },
  {
   "cell_type": "markdown",
   "id": "4971d65e-fd49-456d-9e4f-86a7b5a1873d",
   "metadata": {},
   "source": [
    "Okay, that means that with the third number we can define the step size. Cool! \n",
    "\n",
    "By the way, we can also combine loops with if and else if we want to. Let's see it in action and print if a certain number is odd or even:"
   ]
  },
  {
   "cell_type": "code",
   "execution_count": 22,
   "id": "df05c2e4-0e0a-4145-9d74-f4152360c524",
   "metadata": {},
   "outputs": [
    {
     "name": "stdout",
     "output_type": "stream",
     "text": [
      "0 is even\n",
      "1 is odd\n",
      "2 is even\n",
      "3 is odd\n",
      "4 is even\n",
      "5 is odd\n",
      "6 is even\n",
      "7 is odd\n",
      "8 is even\n",
      "9 is odd\n"
     ]
    }
   ],
   "source": [
    "for x in range(10):\n",
    "    if x%2 == 0:\n",
    "        print(x, \"is even\")\n",
    "    else:\n",
    "        print(x, \"is odd\")"
   ]
  },
  {
   "cell_type": "markdown",
   "id": "d3ca7592-b530-43d7-a65a-a791cb65e6f9",
   "metadata": {},
   "source": [
    "Nice! We will come back to for loops later in the next notebook. Now let's take a look at the other type of loop that we can find in Python. It's called a `while` loop and repeats a certain instruction until (tant qu'une) a given condition is met. An example:"
   ]
  },
  {
   "cell_type": "code",
   "execution_count": 23,
   "id": "f36c3fe3-312a-4267-812b-6caa0a9222bc",
   "metadata": {},
   "outputs": [
    {
     "name": "stdout",
     "output_type": "stream",
     "text": [
      "x a pour valeur 1\n",
      "x a pour valeur 2\n",
      "x a pour valeur 4\n",
      "x a pour valeur 8\n",
      "Fin\n"
     ]
    }
   ],
   "source": [
    "x = 1\n",
    "while x < 10:\n",
    "    print(\"x a pour valeur\", x)\n",
    "    x = 2*x\n",
    "print(\"Fin\")"
   ]
  },
  {
   "cell_type": "markdown",
   "id": "dfb947b9-3556-4a15-9694-16fe79a36632",
   "metadata": {},
   "source": [
    "What happened here? We have to first set a value for x, so we set it to 1 in this example. Then the loop verifies if the condition is True or False. At the beginning we have x < 10 --> 1 < 10. This is obviously true! So the loop executes the instruction that we gave it. It prints `x a pour valeur 1`. Then it changes the value of x from 1 to 2. \n",
    "\n",
    "Now everything repeats. The loop checks is 2 < 10? Yes, it is! So we print it again, change the value again and so on. At some point we have x = 16. Now it checks 16 < 10. But this is false! So the loop does not continue anymore. \n",
    "\n",
    "Try it out with some different values, if you like :)\n",
    "\n",
    "What happens if we set x = 12 at the beginning, for example? "
   ]
  },
  {
   "cell_type": "code",
   "execution_count": 24,
   "id": "401ba288-9ed6-47fb-95dd-e08232a99f87",
   "metadata": {},
   "outputs": [
    {
     "name": "stdout",
     "output_type": "stream",
     "text": [
      "Fin\n"
     ]
    }
   ],
   "source": [
    "x = 12\n",
    "while x < 10:\n",
    "    print(\"x a pour valeur\", x)\n",
    "    x = 2*x\n",
    "print(\"Fin\")"
   ]
  },
  {
   "cell_type": "markdown",
   "id": "50ba70a8-9d00-4740-b2b4-57f1c189ce14",
   "metadata": {},
   "source": [
    "Since 12 < 10 is False, the loop is not even entered! Python ignores the loop entirely and just prints Fin. \n",
    "Another thing that we have to be careful is to not make an infinite loop like in this example, where the condition will always be true and thus, the loop will never stop!"
   ]
  },
  {
   "cell_type": "code",
   "execution_count": null,
   "id": "fae925f7-d06b-4909-a4c4-cae72d2b8d33",
   "metadata": {},
   "outputs": [],
   "source": [
    "x = 1\n",
    "while x < 10:\n",
    "    print(\"x a pour valeur\", x)\n",
    "print(\"Fin\")"
   ]
  },
  {
   "cell_type": "markdown",
   "id": "ade77a2d-d81f-4734-9326-e6c2c23bb68b",
   "metadata": {},
   "source": [
    "Here x will always be 1, and thus always smaller than 10. So the loop will repeat for ever... "
   ]
  },
  {
   "cell_type": "markdown",
   "id": "94939230-34d9-467f-824f-3d7112523306",
   "metadata": {},
   "source": [
    "In the next Notebook we will learn how to write our own functions and we will see a thing that is called lists! "
   ]
  }
 ],
 "metadata": {
  "kernelspec": {
   "display_name": "Python 3 (ipykernel)",
   "language": "python",
   "name": "python3"
  },
  "language_info": {
   "codemirror_mode": {
    "name": "ipython",
    "version": 3
   },
   "file_extension": ".py",
   "mimetype": "text/x-python",
   "name": "python",
   "nbconvert_exporter": "python",
   "pygments_lexer": "ipython3",
   "version": "3.9.7"
  }
 },
 "nbformat": 4,
 "nbformat_minor": 5
}
