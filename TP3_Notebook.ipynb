{
 "cells": [
  {
   "cell_type": "markdown",
   "id": "e6961fdb-96a1-4b20-9f17-5970cba08f8f",
   "metadata": {},
   "source": [
    "# TP3: Listes et Fonctions\n",
    "\n",
    "Here we will start with a Python object that is called list. And it's actually quite simple. A list in Python is a list of variables, that we can then give a name. To denote the list we use square brackets `[]` and commas. The syntax is `nom_de_la_liste = [valeur1, valeur2,...]`. Easy enough, right? Time for some examples:"
   ]
  },
  {
   "cell_type": "code",
   "execution_count": 1,
   "id": "e9767d4c-975f-4afa-a135-8dbbc70ecddd",
   "metadata": {},
   "outputs": [
    {
     "name": "stdout",
     "output_type": "stream",
     "text": [
      "[1, 2, 3, 6, 10]\n",
      "['ISA', 'BTP', '2021']\n"
     ]
    }
   ],
   "source": [
    "liste_de_nombres = [1, 2, 3, 6, 10]\n",
    "liste_str = [\"ISA\", \"BTP\", \"2021\"]\n",
    "print(liste_de_nombres)\n",
    "print(liste_str)"
   ]
  },
  {
   "cell_type": "markdown",
   "id": "71f2144a-8d34-44aa-9d04-30e5eb0708de",
   "metadata": {},
   "source": [
    "We can also have mixed elements, that is, we can combine words, strings, integers and floats all in one list:"
   ]
  },
  {
   "cell_type": "code",
   "execution_count": 2,
   "id": "c9d0d575-737e-4b5f-92f6-2e00f66a146d",
   "metadata": {},
   "outputs": [
    {
     "name": "stdout",
     "output_type": "stream",
     "text": [
      "[1, 'ISA', 3.7]\n"
     ]
    }
   ],
   "source": [
    "liste_mixte = [1, \"ISA\", 3.7]\n",
    "print(liste_mixte)"
   ]
  },
  {
   "cell_type": "markdown",
   "id": "cf3fed5a-5889-4a31-a5cf-b47a8fdb276d",
   "metadata": {},
   "source": [
    "Now that we stored some variables in a list, how do we access them? We use so-called indices! That is, we give each element in the list a number, starting from 0. So the first element in the element is 0, the second element is 1, and so on. Let's see an example:"
   ]
  },
  {
   "cell_type": "code",
   "execution_count": 3,
   "id": "246d7221-9d12-4ba3-b6cc-8a9a6358f3ea",
   "metadata": {},
   "outputs": [
    {
     "name": "stdout",
     "output_type": "stream",
     "text": [
      "a\n",
      "c\n",
      "f\n"
     ]
    }
   ],
   "source": [
    "liste = [\"a\", \"b\", \"c\", \"d\", \"e\", \"f\"]\n",
    "print(liste[0])\n",
    "print(liste[2])\n",
    "print(liste[5])"
   ]
  },
  {
   "cell_type": "markdown",
   "id": "ceaec816-d763-4ba1-8d34-17babeaaa221",
   "metadata": {},
   "source": [
    "So we can access elements in the list with square brackets and the corresponding number. It is also possible to access multiple elements at the same time, with the following syntax: `liste[start:end]`. "
   ]
  },
  {
   "cell_type": "code",
   "execution_count": 4,
   "id": "b3067e65-4ec1-40ea-ba4e-e7f34dbb7e60",
   "metadata": {},
   "outputs": [
    {
     "name": "stdout",
     "output_type": "stream",
     "text": [
      "['a', 'b', 'c']\n",
      "['a', 'b', 'c']\n",
      "['c', 'd']\n",
      "['d', 'e', 'f']\n"
     ]
    }
   ],
   "source": [
    "print(liste[0:3])\n",
    "print(liste[:3]) # To write 0 is optional\n",
    "print(liste[2:4])\n",
    "print(liste[3:]) # If we don't write the second number it simply goes until the end of the list"
   ]
  },
  {
   "cell_type": "markdown",
   "id": "fe9d2d20-4c1e-4fcf-950e-3c545753d060",
   "metadata": {},
   "source": [
    "Actually, we can also count backwards! So let's say we want to access the last element of a list. We can simply write: `liste[-1]`. Or even the last 3 elements works as well: `liste[-4:-1]`"
   ]
  },
  {
   "cell_type": "code",
   "execution_count": 5,
   "id": "a17e1c2d-f6c8-4324-8567-a73c792f4cc2",
   "metadata": {},
   "outputs": [
    {
     "name": "stdout",
     "output_type": "stream",
     "text": [
      "9\n",
      "[6, 7, 8]\n"
     ]
    }
   ],
   "source": [
    "liste = [4, 5, 6, 7, 8, 9]\n",
    "print(liste[-1])\n",
    "print(liste[-4:-1])"
   ]
  },
  {
   "cell_type": "markdown",
   "id": "cf4fefc9-e3f0-471a-aa3b-7ae5e7cbddad",
   "metadata": {},
   "source": [
    "Like with strings, we can also perform similar operations on lists. We use + to combine two lists and * with a number to repeat a list multiple times. "
   ]
  },
  {
   "cell_type": "code",
   "execution_count": 6,
   "id": "acec487c-f25b-4174-a2a1-2f312ca4b4ac",
   "metadata": {},
   "outputs": [
    {
     "name": "stdout",
     "output_type": "stream",
     "text": [
      "['a', 'b', 'c', 'd']\n",
      "['a', 'b', 'a', 'b', 'a', 'b', 'a', 'b', 'a', 'b']\n"
     ]
    }
   ],
   "source": [
    "liste1 = [\"a\", \"b\"]\n",
    "liste2 = [\"c\", \"d\"]\n",
    "print(liste1 + liste2)\n",
    "print(5*liste1)"
   ]
  },
  {
   "cell_type": "markdown",
   "id": "8462a192-174e-42f1-93ab-ba34415376ca",
   "metadata": {},
   "source": [
    "## Functions for lists\n",
    "I will quickly present some of the most common functions that are used with lists. The examples should be enough, otherwise look in the material for the course (on Elearn) or on Google for more information :)"
   ]
  },
  {
   "cell_type": "markdown",
   "id": "a306a135-8b29-455e-a447-6e69888f6387",
   "metadata": {},
   "source": [
    "### len\n",
    "Get the length of the list"
   ]
  },
  {
   "cell_type": "code",
   "execution_count": 7,
   "id": "9d64c242-76ac-4295-a015-e80214cadd15",
   "metadata": {},
   "outputs": [
    {
     "name": "stdout",
     "output_type": "stream",
     "text": [
      "5\n"
     ]
    }
   ],
   "source": [
    "liste = [1, 4, 56, 3, 8]\n",
    "print(len(liste))"
   ]
  },
  {
   "cell_type": "markdown",
   "id": "d5b63990-2199-4829-b1d0-b9b9c2ed3d88",
   "metadata": {},
   "source": [
    "### append\n",
    "Add an element to the end of the list."
   ]
  },
  {
   "cell_type": "code",
   "execution_count": 8,
   "id": "2261230f-e4cd-4853-8eeb-7462c95eece7",
   "metadata": {},
   "outputs": [
    {
     "name": "stdout",
     "output_type": "stream",
     "text": [
      "[1, 2, 42]\n"
     ]
    }
   ],
   "source": [
    "liste = [1, 2]\n",
    "liste.append(42)\n",
    "print(liste)"
   ]
  },
  {
   "cell_type": "markdown",
   "id": "62c55666-965c-4585-ba9a-451179df8707",
   "metadata": {},
   "source": [
    "### insert\n",
    "Add an element in a specific position (given by the index). The first number is the position, where the element should be inserted and the second number is the value that is going to be inserted. For example, `liste.insert(1, 42)` inserts the value 42 at the second position (that has the index 1)."
   ]
  },
  {
   "cell_type": "code",
   "execution_count": 9,
   "id": "807b6dae-964d-4153-81d0-fddf7e9566e3",
   "metadata": {},
   "outputs": [
    {
     "name": "stdout",
     "output_type": "stream",
     "text": [
      "[1, 4, 42, 7, 8]\n"
     ]
    }
   ],
   "source": [
    "liste = [1, 4, 7, 8]\n",
    "liste.insert(2, 42)\n",
    "print(liste)"
   ]
  },
  {
   "cell_type": "markdown",
   "id": "90f325bd-220d-4d7c-8bb7-2d88e17df4f8",
   "metadata": {},
   "source": [
    "### remove\n",
    "Delete the first occurence of a given value in the list. "
   ]
  },
  {
   "cell_type": "code",
   "execution_count": 10,
   "id": "a2e860e8-0a75-4a92-b3c0-9bc956eb454b",
   "metadata": {},
   "outputs": [
    {
     "name": "stdout",
     "output_type": "stream",
     "text": [
      "[1, 3, 4, 2]\n"
     ]
    }
   ],
   "source": [
    "liste = [1, 4, 3, 4, 2]\n",
    "liste.remove(4)\n",
    "print(liste)"
   ]
  },
  {
   "cell_type": "markdown",
   "id": "a372c830-b113-448c-a173-2ac1c2a63655",
   "metadata": {},
   "source": [
    "### pop\n",
    "Deletes an element at a given position and returns the deleted element."
   ]
  },
  {
   "cell_type": "code",
   "execution_count": 11,
   "id": "7695c575-8de3-49ed-afe4-7300c8d0bd72",
   "metadata": {},
   "outputs": [
    {
     "name": "stdout",
     "output_type": "stream",
     "text": [
      "43\n",
      "[1, 4, 856, 5, 7]\n"
     ]
    }
   ],
   "source": [
    "liste = [1, 4, 856, 43, 5, 7]\n",
    "print(liste.pop(3))\n",
    "print(liste)"
   ]
  },
  {
   "cell_type": "markdown",
   "id": "92a6d9ff-3f04-4a74-a44f-262d640138ae",
   "metadata": {},
   "source": [
    "### reverse\n",
    "Reverse the elements in the list. "
   ]
  },
  {
   "cell_type": "code",
   "execution_count": 12,
   "id": "23f078f2-865a-434d-ad31-67ca4eabca64",
   "metadata": {},
   "outputs": [
    {
     "name": "stdout",
     "output_type": "stream",
     "text": [
      "['o', 'l', 'l', 'e', 'H']\n"
     ]
    }
   ],
   "source": [
    "liste = [\"H\", \"e\", \"l\", \"l\", \"o\"]\n",
    "liste.reverse()\n",
    "print(liste)"
   ]
  },
  {
   "cell_type": "markdown",
   "id": "c4bf9df7-a0f5-4182-84a4-c9e76acce3ac",
   "metadata": {},
   "source": [
    "### Sort\n",
    "Sorts the list, either alphabetically or numerically (in increasing order)."
   ]
  },
  {
   "cell_type": "code",
   "execution_count": 13,
   "id": "db9e80ee-e552-44ec-b4d3-f95f4b41f20a",
   "metadata": {},
   "outputs": [
    {
     "name": "stdout",
     "output_type": "stream",
     "text": [
      "[5, 6, 7, 8.5, 23, 42]\n"
     ]
    }
   ],
   "source": [
    "liste = [23, 5, 6, 42, 7, 8.5]\n",
    "liste.sort()\n",
    "print(liste)"
   ]
  },
  {
   "cell_type": "code",
   "execution_count": 14,
   "id": "6a46c575-6935-4789-96b0-8428337aae6f",
   "metadata": {},
   "outputs": [
    {
     "name": "stdout",
     "output_type": "stream",
     "text": [
      "['A', 'I', 'S']\n"
     ]
    }
   ],
   "source": [
    "liste = [\"I\", \"S\", \"A\"]\n",
    "liste.sort()\n",
    "print(liste)"
   ]
  },
  {
   "cell_type": "markdown",
   "id": "e1559c15-ad82-4524-9ff9-4feeb105db3b",
   "metadata": {},
   "source": [
    "## Parcourir une liste\n",
    "I told you that we would come back to for loops! To quickly go through all of the elements we can use the powerful for loop. It just simply repeats an action, while it goes through the whole list. Let's take a look:"
   ]
  },
  {
   "cell_type": "code",
   "execution_count": 15,
   "id": "900eae68-c022-481a-bbc1-5681db217afd",
   "metadata": {},
   "outputs": [
    {
     "name": "stdout",
     "output_type": "stream",
     "text": [
      "23\n",
      "5\n",
      "6\n",
      "42\n",
      "7\n",
      "8.5\n"
     ]
    }
   ],
   "source": [
    "liste = [23, 5, 6, 42, 7, 8.5]\n",
    "for element in liste:\n",
    "    print(element)"
   ]
  },
  {
   "cell_type": "code",
   "execution_count": 16,
   "id": "eb1bc6b7-7a1d-4d78-a2a7-2d164aaaa462",
   "metadata": {},
   "outputs": [
    {
     "name": "stdout",
     "output_type": "stream",
     "text": [
      "H\n",
      "e\n",
      "l\n",
      "l\n",
      "o\n"
     ]
    }
   ],
   "source": [
    "# Another example:\n",
    "liste = [\"H\", \"e\", \"l\", \"l\", \"o\"]\n",
    "for letter in liste:\n",
    "    print(letter)"
   ]
  },
  {
   "cell_type": "markdown",
   "id": "091c03fa-584f-42b4-9938-2bc1e4e3a97d",
   "metadata": {},
   "source": [
    "If you want to access the elements of a list, while going through the list we will use a combination of `range` and `len`! Let's change the numbers from 1 to 5, to their squares:"
   ]
  },
  {
   "cell_type": "code",
   "execution_count": 17,
   "id": "964032d3-d877-4818-97b7-7187f5ee5113",
   "metadata": {},
   "outputs": [
    {
     "name": "stdout",
     "output_type": "stream",
     "text": [
      "[1, 4, 9, 16, 25]\n"
     ]
    }
   ],
   "source": [
    "liste = [1, 2, 3, 4, 5]\n",
    "for i in range(len(liste)):\n",
    "    liste[i] = liste[i]**2\n",
    "print(liste)"
   ]
  },
  {
   "cell_type": "markdown",
   "id": "27615d67-63d1-43b2-b54c-02e798a6b549",
   "metadata": {},
   "source": [
    "## Fonctions\n",
    "\n",
    "We're coming to the last part of the course. We will now see one of the most powerful features in programming. We will write our own functions! Functions are helpful to be able to re-use a certain part of the code, without the need for rewriting it multiple times. And the best thing is that we can give it some parameters/variables, that it can work with. Enough talking, how do we write a function? The syntax is the following:\n",
    "```\n",
    "def nom_fonction(liste_de_parametres):\n",
    "    bloc d'instructions\n",
    "```"
   ]
  },
  {
   "cell_type": "markdown",
   "id": "226768d5-5461-41c0-91f9-44c89e093a0e",
   "metadata": {},
   "source": [
    "Let's write a little counter that simply prints 1, 2, 3, every time we use (we also say call a function) it."
   ]
  },
  {
   "cell_type": "code",
   "execution_count": 18,
   "id": "f56fda29-07ac-4f4f-a81e-f948730d0a4c",
   "metadata": {},
   "outputs": [],
   "source": [
    "def compteur3():\n",
    "    for i in range(1, 4):\n",
    "        print(i)"
   ]
  },
  {
   "cell_type": "markdown",
   "id": "d2b3b61c-0f68-440f-8502-3ca9f5a24ff8",
   "metadata": {},
   "source": [
    "Okay, one thing that you may have noticed. We wrote the function, but nothing was printed! What does that mean? Well, nothing really. The problem here is that we only DEFINED the function, but we didn't CALL/USE it yet. So let's use it!"
   ]
  },
  {
   "cell_type": "code",
   "execution_count": 19,
   "id": "81531edb-a24e-41a9-ac67-1f849ca23dc0",
   "metadata": {},
   "outputs": [
    {
     "name": "stdout",
     "output_type": "stream",
     "text": [
      "1\n",
      "2\n",
      "3\n",
      "Bonjour\n",
      "1\n",
      "2\n",
      "3\n"
     ]
    }
   ],
   "source": [
    "compteur3()\n",
    "print(\"Bonjour\")\n",
    "compteur3()"
   ]
  },
  {
   "cell_type": "markdown",
   "id": "eeddb428-356d-4b55-a10e-163ada392ebc",
   "metadata": {},
   "source": [
    "That is nice and everything. But what if we want to count until 4? Or until any other number? Do we have to write a function every single time for this? Luckily, no! We can pass the function some arguments. That means, we will give it some variables to work with when use it. We do it in the following way:"
   ]
  },
  {
   "cell_type": "code",
   "execution_count": 20,
   "id": "7a039e4a-172b-4778-a4d8-8e095452d732",
   "metadata": {},
   "outputs": [],
   "source": [
    "def compteur(n):\n",
    "    for i in range(1, n+1):\n",
    "        print(i)"
   ]
  },
  {
   "cell_type": "markdown",
   "id": "c3d3b265-48e7-4398-b790-d6f523cc1763",
   "metadata": {},
   "source": [
    "And now we can count until any number we want! We just have to give the function the variable n."
   ]
  },
  {
   "cell_type": "code",
   "execution_count": 21,
   "id": "6daedfce-6e8c-46c0-9b59-36685fa4fbaa",
   "metadata": {},
   "outputs": [
    {
     "name": "stdout",
     "output_type": "stream",
     "text": [
      "1\n",
      "2\n",
      "3\n",
      "4\n",
      "5\n",
      "Bonjour\n",
      "1\n",
      "2\n"
     ]
    }
   ],
   "source": [
    "compteur(5)\n",
    "print(\"Bonjour\")\n",
    "compteur(2)"
   ]
  },
  {
   "cell_type": "markdown",
   "id": "8fb7d8b7-c77e-492d-b1d0-435b3ad8753f",
   "metadata": {},
   "source": [
    "We can go even further and give the function multiple parameters, so that is more flexible. Let's say we also want to be able to choose to say at what number the counter should start! Then we write:"
   ]
  },
  {
   "cell_type": "code",
   "execution_count": 22,
   "id": "92e765d5-103c-4d7b-b4cb-e313556e23fc",
   "metadata": {},
   "outputs": [],
   "source": [
    "def compteur_mieux(start, stop):\n",
    "    for i in range(start, stop+1):\n",
    "        print(i)"
   ]
  },
  {
   "cell_type": "code",
   "execution_count": 23,
   "id": "17061a22-a64f-41cc-9e80-8f131956527a",
   "metadata": {},
   "outputs": [
    {
     "name": "stdout",
     "output_type": "stream",
     "text": [
      "42\n",
      "43\n",
      "44\n",
      "45\n",
      "46\n",
      "Bonjour!\n",
      "12\n",
      "13\n",
      "14\n",
      "15\n"
     ]
    }
   ],
   "source": [
    "compteur_mieux(42, 46)\n",
    "print(\"Bonjour!\")\n",
    "compteur_mieux(12, 15)"
   ]
  },
  {
   "cell_type": "markdown",
   "id": "fe3900fd-3323-45f9-b329-3edee702ca3a",
   "metadata": {},
   "source": [
    "That's already a pretty powerful too, right? But it continues. Obviously, functions can do more than just using print statements. They can do calculations for us and return/give us the result. We do this with the keyword `return`. We will define a simply function that computes the cube of a number:"
   ]
  },
  {
   "cell_type": "code",
   "execution_count": 24,
   "id": "cb08f20c-6fd1-47be-ab8a-d32bef7d3125",
   "metadata": {},
   "outputs": [],
   "source": [
    "def cube(a):\n",
    "    return a**3"
   ]
  },
  {
   "cell_type": "code",
   "execution_count": 25,
   "id": "c7cb5e7f-1b0a-4650-ad95-e3784d6138a4",
   "metadata": {},
   "outputs": [
    {
     "name": "stdout",
     "output_type": "stream",
     "text": [
      "125\n",
      "1000\n"
     ]
    }
   ],
   "source": [
    "print(cube(5))\n",
    "print(cube(10))"
   ]
  },
  {
   "cell_type": "markdown",
   "id": "29f6b3e7-3bb1-48b8-995c-4896254d3e14",
   "metadata": {},
   "source": [
    "It is even possible to return multiple values in the form of a list! This little function here returns the Maximum as the first and the Minimum as the second value given two variables a and b."
   ]
  },
  {
   "cell_type": "code",
   "execution_count": 26,
   "id": "832072de-010b-4863-98f1-808a5e610f2e",
   "metadata": {},
   "outputs": [],
   "source": [
    "def MaxMin(a, b):\n",
    "    if a <= b:\n",
    "        return [b, a]\n",
    "    else:\n",
    "        return [a, b]"
   ]
  },
  {
   "cell_type": "code",
   "execution_count": 27,
   "id": "265bbd69-cec7-4f76-b976-c285013182e9",
   "metadata": {},
   "outputs": [
    {
     "name": "stdout",
     "output_type": "stream",
     "text": [
      "[7, 2]\n",
      "[42, 13]\n"
     ]
    }
   ],
   "source": [
    "print(MaxMin(2, 7))\n",
    "print(MaxMin(42, 13))"
   ]
  },
  {
   "cell_type": "markdown",
   "id": "14201149-ea09-4128-99c7-79e98371ffc5",
   "metadata": {},
   "source": [
    "We can also save the results in a list to use it later:"
   ]
  },
  {
   "cell_type": "code",
   "execution_count": 28,
   "id": "736d3df6-d36b-4886-9b6c-cbf93821d76b",
   "metadata": {},
   "outputs": [
    {
     "name": "stdout",
     "output_type": "stream",
     "text": [
      "The Maximum of 42 and 13 is: 42\n",
      "The Minimum of 42 and 13 is: 13\n"
     ]
    }
   ],
   "source": [
    "liste = MaxMin(13, 42)\n",
    "print(\"The Maximum of 42 and 13 is:\", liste[0])\n",
    "print(\"The Minimum of 42 and 13 is:\", liste[1])"
   ]
  }
 ],
 "metadata": {
  "kernelspec": {
   "display_name": "Python 3 (ipykernel)",
   "language": "python",
   "name": "python3"
  },
  "language_info": {
   "codemirror_mode": {
    "name": "ipython",
    "version": 3
   },
   "file_extension": ".py",
   "mimetype": "text/x-python",
   "name": "python",
   "nbconvert_exporter": "python",
   "pygments_lexer": "ipython3",
   "version": "3.9.7"
  }
 },
 "nbformat": 4,
 "nbformat_minor": 5
}
