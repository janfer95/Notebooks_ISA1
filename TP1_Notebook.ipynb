{
 "cells": [
  {
   "cell_type": "markdown",
   "id": "25e79680-cada-454a-a73e-0328be637ced",
   "metadata": {},
   "source": [
    "# TP1 : Concepts de base\n",
    "\n",
    "## 1. Définition et déclaration de variables"
   ]
  },
  {
   "cell_type": "code",
   "execution_count": 1,
   "id": "c0dffafb-e507-4ec0-b099-0e22a034bc08",
   "metadata": {},
   "outputs": [
    {
     "data": {
      "text/plain": [
       "23"
      ]
     },
     "execution_count": 1,
     "metadata": {},
     "output_type": "execute_result"
    }
   ],
   "source": [
    "variable1 = 23\n",
    "variable1"
   ]
  },
  {
   "cell_type": "code",
   "execution_count": 2,
   "id": "542301fd-0647-4ebc-8c25-ad3e6545c0be",
   "metadata": {},
   "outputs": [
    {
     "ename": "SyntaxError",
     "evalue": "invalid syntax (786578568.py, line 2)",
     "output_type": "error",
     "traceback": [
      "\u001b[0;36m  File \u001b[0;32m\"/tmp/ipykernel_43937/786578568.py\"\u001b[0;36m, line \u001b[0;32m2\u001b[0m\n\u001b[0;31m    mon age = 26\u001b[0m\n\u001b[0m        ^\u001b[0m\n\u001b[0;31mSyntaxError\u001b[0m\u001b[0;31m:\u001b[0m invalid syntax\n"
     ]
    }
   ],
   "source": [
    "# Ça marche pas\n",
    "mon age = 26"
   ]
  },
  {
   "cell_type": "code",
   "execution_count": 3,
   "id": "2d392c74-b3ff-4e0e-812f-d4c685748622",
   "metadata": {},
   "outputs": [],
   "source": [
    "# Ça marche\n",
    "mon_age = 18"
   ]
  },
  {
   "cell_type": "code",
   "execution_count": 4,
   "id": "602e391a-1eae-4703-a813-5773a1700df2",
   "metadata": {},
   "outputs": [
    {
     "data": {
      "text/plain": [
       "5"
      ]
     },
     "execution_count": 4,
     "metadata": {},
     "output_type": "execute_result"
    }
   ],
   "source": [
    "var1 = 5\n",
    "var2 = var1\n",
    "var2"
   ]
  },
  {
   "cell_type": "code",
   "execution_count": 5,
   "id": "39673d7b-939a-4bb4-b121-3ccffc951e7e",
   "metadata": {},
   "outputs": [
    {
     "data": {
      "text/plain": [
       "'Hello world'"
      ]
     },
     "execution_count": 5,
     "metadata": {},
     "output_type": "execute_result"
    }
   ],
   "source": [
    "Chaine1 = \"Hello world\"\n",
    "Chaine1"
   ]
  },
  {
   "cell_type": "code",
   "execution_count": 6,
   "id": "c03b2a48-d3d4-46c0-b1b8-c0e9aaaad367",
   "metadata": {},
   "outputs": [
    {
     "ename": "NameError",
     "evalue": "name 'chaine1' is not defined",
     "output_type": "error",
     "traceback": [
      "\u001b[0;31m---------------------------------------------------------------------------\u001b[0m",
      "\u001b[0;31mNameError\u001b[0m                                 Traceback (most recent call last)",
      "\u001b[0;32m/tmp/ipykernel_43937/1963766926.py\u001b[0m in \u001b[0;36m<module>\u001b[0;34m\u001b[0m\n\u001b[1;32m      1\u001b[0m \u001b[0;31m# Python est sensible à la casse, donc ça marche pas\u001b[0m\u001b[0;34m\u001b[0m\u001b[0;34m\u001b[0m\u001b[0;34m\u001b[0m\u001b[0m\n\u001b[0;32m----> 2\u001b[0;31m \u001b[0mchaine1\u001b[0m\u001b[0;34m\u001b[0m\u001b[0;34m\u001b[0m\u001b[0m\n\u001b[0m",
      "\u001b[0;31mNameError\u001b[0m: name 'chaine1' is not defined"
     ]
    }
   ],
   "source": [
    "# Python est sensible à la casse, donc ça marche pas\n",
    "chaine1"
   ]
  },
  {
   "cell_type": "markdown",
   "id": "d7e73ef2-ffd1-4f9d-99ad-6fec32990600",
   "metadata": {},
   "source": [
    "## 2a. Opération sur les variables"
   ]
  },
  {
   "cell_type": "code",
   "execution_count": 7,
   "id": "04c3c7eb-7a81-48a4-b1ee-005decb6468c",
   "metadata": {},
   "outputs": [
    {
     "data": {
      "text/plain": [
       "12"
      ]
     },
     "execution_count": 7,
     "metadata": {},
     "output_type": "execute_result"
    }
   ],
   "source": [
    "x = 2\n",
    "x + 10"
   ]
  },
  {
   "cell_type": "code",
   "execution_count": 8,
   "id": "9dcad44c-8238-457a-a85a-98fabe8d8557",
   "metadata": {},
   "outputs": [
    {
     "data": {
      "text/plain": [
       "1"
      ]
     },
     "execution_count": 8,
     "metadata": {},
     "output_type": "execute_result"
    }
   ],
   "source": [
    "x - 1"
   ]
  },
  {
   "cell_type": "code",
   "execution_count": 9,
   "id": "0c7dd30b-ff13-49d6-8b32-bf67aba827ab",
   "metadata": {},
   "outputs": [
    {
     "data": {
      "text/plain": [
       "8"
      ]
     },
     "execution_count": 9,
     "metadata": {},
     "output_type": "execute_result"
    }
   ],
   "source": [
    "x**3"
   ]
  },
  {
   "cell_type": "code",
   "execution_count": 10,
   "id": "14c597ef-8038-4fdd-bb79-dfa1a1b559d7",
   "metadata": {},
   "outputs": [
    {
     "data": {
      "text/plain": [
       "0.6666666666666666"
      ]
     },
     "execution_count": 10,
     "metadata": {},
     "output_type": "execute_result"
    }
   ],
   "source": [
    "x/3"
   ]
  },
  {
   "cell_type": "code",
   "execution_count": 11,
   "id": "5f5b272b-3c94-4e56-b988-51a1e62a40cf",
   "metadata": {},
   "outputs": [
    {
     "data": {
      "text/plain": [
       "0"
      ]
     },
     "execution_count": 11,
     "metadata": {},
     "output_type": "execute_result"
    }
   ],
   "source": [
    "# Le double / force la division euclidienne\n",
    "x//3"
   ]
  },
  {
   "cell_type": "code",
   "execution_count": 12,
   "id": "bb62c326-ff18-473f-a069-77552b0e3d5b",
   "metadata": {},
   "outputs": [
    {
     "data": {
      "text/plain": [
       "2"
      ]
     },
     "execution_count": 12,
     "metadata": {},
     "output_type": "execute_result"
    }
   ],
   "source": [
    "x % 3"
   ]
  },
  {
   "cell_type": "markdown",
   "id": "5659a4d3-bfcd-4435-b21f-f0755143a71b",
   "metadata": {},
   "source": [
    "## 2b. Opération sur les chaînes de caractère"
   ]
  },
  {
   "cell_type": "code",
   "execution_count": 13,
   "id": "0bb4dc8b-45bf-4d22-aa11-6b00d3bdb915",
   "metadata": {},
   "outputs": [
    {
     "data": {
      "text/plain": [
       "'salut Python'"
      ]
     },
     "execution_count": 13,
     "metadata": {},
     "output_type": "execute_result"
    }
   ],
   "source": [
    "chaine1 = \"salut\"\n",
    "chaine2 = ' Python'\n",
    "chaine1 + chaine2"
   ]
  },
  {
   "cell_type": "code",
   "execution_count": 14,
   "id": "6fc9e2c9-a428-4275-9c64-b0fc2e5ccdcb",
   "metadata": {},
   "outputs": [
    {
     "data": {
      "text/plain": [
       "' Python Python Python'"
      ]
     },
     "execution_count": 14,
     "metadata": {},
     "output_type": "execute_result"
    }
   ],
   "source": [
    "chaine2 * 3"
   ]
  },
  {
   "cell_type": "code",
   "execution_count": 15,
   "id": "3a8e8c00-5f8e-4eb5-acad-dc8fa3cc487e",
   "metadata": {},
   "outputs": [
    {
     "data": {
      "text/plain": [
       "'salut5'"
      ]
     },
     "execution_count": 15,
     "metadata": {},
     "output_type": "execute_result"
    }
   ],
   "source": [
    "# Transformer un nombre à un caractère avec str\n",
    "a = 5\n",
    "chaine1 + str(a)"
   ]
  },
  {
   "cell_type": "markdown",
   "id": "58531b73-7869-421b-9943-c0dff6b283f5",
   "metadata": {},
   "source": [
    "## 3. Fonctions de base\n",
    "### La fonction print()"
   ]
  },
  {
   "cell_type": "code",
   "execution_count": 16,
   "id": "a1132b8b-1eab-41c6-a4ac-ca9f69f7f6bd",
   "metadata": {},
   "outputs": [
    {
     "name": "stdout",
     "output_type": "stream",
     "text": [
      "4\n"
     ]
    }
   ],
   "source": [
    "a = 4\n",
    "print(a)"
   ]
  },
  {
   "cell_type": "code",
   "execution_count": 17,
   "id": "43c7131b-5b96-450d-b7f2-c18b94699772",
   "metadata": {},
   "outputs": [
    {
     "name": "stdout",
     "output_type": "stream",
     "text": [
      "1.5\n"
     ]
    }
   ],
   "source": [
    "b = 1.5\n",
    "print(b)"
   ]
  },
  {
   "cell_type": "code",
   "execution_count": 18,
   "id": "b78d7f4c-635c-4b64-b46a-b2e7997faf6c",
   "metadata": {},
   "outputs": [
    {
     "name": "stdout",
     "output_type": "stream",
     "text": [
      "Hello World\n"
     ]
    }
   ],
   "source": [
    "chaine = \"Hello World\"\n",
    "print(chaine)"
   ]
  },
  {
   "cell_type": "code",
   "execution_count": 19,
   "id": "bd02435f-8865-4a01-aee3-43ed418ff961",
   "metadata": {},
   "outputs": [
    {
     "name": "stdout",
     "output_type": "stream",
     "text": [
      "Hello World 4 1.5\n"
     ]
    }
   ],
   "source": [
    "print(chaine, a, b)"
   ]
  },
  {
   "cell_type": "code",
   "execution_count": 20,
   "id": "cee00939-4c89-42c8-ad7c-7dc14adb524b",
   "metadata": {},
   "outputs": [
    {
     "name": "stdout",
     "output_type": "stream",
     "text": [
      "a*b = 6.0\n"
     ]
    }
   ],
   "source": [
    "print(\"a*b =\", a*b)"
   ]
  },
  {
   "cell_type": "markdown",
   "id": "a948910a-9c3e-4e87-9427-9fce1abd9964",
   "metadata": {},
   "source": [
    "### La fonction input()"
   ]
  },
  {
   "cell_type": "code",
   "execution_count": 21,
   "id": "854e4d3c-0777-4439-8e3f-60572c397ed8",
   "metadata": {},
   "outputs": [
    {
     "name": "stdin",
     "output_type": "stream",
     "text": [
      "Entrer votre prénom : Jannik\n"
     ]
    }
   ],
   "source": [
    "prenom = input(\"Entrer votre prénom :\")"
   ]
  },
  {
   "cell_type": "code",
   "execution_count": 22,
   "id": "7cfd5f9c-d6be-4fd1-b3f1-ec902733a798",
   "metadata": {},
   "outputs": [
    {
     "name": "stdin",
     "output_type": "stream",
     "text": [
      "Entrer votre âge : 26\n"
     ]
    }
   ],
   "source": [
    "age = input(\"Entrer votre âge :\")"
   ]
  },
  {
   "cell_type": "code",
   "execution_count": 32,
   "id": "56921d27-020f-4cfd-bc78-0daa697ab562",
   "metadata": {},
   "outputs": [
    {
     "name": "stdout",
     "output_type": "stream",
     "text": [
      "26\n"
     ]
    }
   ],
   "source": [
    "print(age)"
   ]
  },
  {
   "cell_type": "code",
   "execution_count": 24,
   "id": "bf266478-1b00-44fa-9904-a8c928126313",
   "metadata": {},
   "outputs": [
    {
     "name": "stdout",
     "output_type": "stream",
     "text": [
      "Jannik\n"
     ]
    }
   ],
   "source": [
    "print(prenom)"
   ]
  },
  {
   "cell_type": "markdown",
   "id": "986e5109-8655-41fb-be4a-8e777f2a5db5",
   "metadata": {},
   "source": [
    "## 4. Modules\n",
    "### Le module math"
   ]
  },
  {
   "cell_type": "code",
   "execution_count": 25,
   "id": "87807659-3f4d-4642-8f97-4e8fd29a2766",
   "metadata": {},
   "outputs": [
    {
     "data": {
      "text/plain": [
       "1.0"
      ]
     },
     "execution_count": 25,
     "metadata": {},
     "output_type": "execute_result"
    }
   ],
   "source": [
    "import math\n",
    "math.exp(0)"
   ]
  },
  {
   "cell_type": "code",
   "execution_count": 26,
   "id": "eae93bde-a076-4bdc-a386-6066640b9f37",
   "metadata": {},
   "outputs": [
    {
     "data": {
      "text/plain": [
       "2.718281828459045"
      ]
     },
     "execution_count": 26,
     "metadata": {},
     "output_type": "execute_result"
    }
   ],
   "source": [
    "math.exp(1)"
   ]
  },
  {
   "cell_type": "code",
   "execution_count": 27,
   "id": "4d50aea0-82b8-4dad-bd51-75376a0e497c",
   "metadata": {},
   "outputs": [
    {
     "data": {
      "text/plain": [
       "3.141592653589793"
      ]
     },
     "execution_count": 27,
     "metadata": {},
     "output_type": "execute_result"
    }
   ],
   "source": [
    "math.pi"
   ]
  },
  {
   "cell_type": "code",
   "execution_count": 28,
   "id": "02113353-03da-4f54-b094-de522f2e6d73",
   "metadata": {},
   "outputs": [],
   "source": [
    "# Utiliser 'as' pour renommer un module\n",
    "import numpy as np"
   ]
  },
  {
   "cell_type": "code",
   "execution_count": 29,
   "id": "c02dd2be-878f-48e8-b596-2a81d5886b01",
   "metadata": {},
   "outputs": [
    {
     "data": {
      "text/plain": [
       "array([6, 5, 8, 7, 1, 1, 7, 4, 8, 2])"
      ]
     },
     "execution_count": 29,
     "metadata": {},
     "output_type": "execute_result"
    }
   ],
   "source": [
    "np.random.randint(low=0, high=10, size=10)"
   ]
  },
  {
   "cell_type": "code",
   "execution_count": 30,
   "id": "93de8ed6-4d39-486e-857f-4889ca53d375",
   "metadata": {},
   "outputs": [],
   "source": [
    "import matplotlib.pyplot as plt"
   ]
  },
  {
   "cell_type": "code",
   "execution_count": 33,
   "id": "c9ab581f-15de-49d1-bbf7-5cce29428baf",
   "metadata": {},
   "outputs": [
    {
     "data": {
      "text/plain": [
       "[<matplotlib.lines.Line2D at 0x7f506d3e3d00>]"
      ]
     },
     "execution_count": 33,
     "metadata": {},
     "output_type": "execute_result"
    },
    {
     "data": {
      "image/png": "[encoded data removed]",
      "text/plain": [
       "<Figure size 432x288 with 1 Axes>"
      ]
     },
     "metadata": {
      "needs_background": "light"
     },
     "output_type": "display_data"
    }
   ],
   "source": [
    "x = np.linspace(0, 2*math.pi, 1000)\n",
    "y = np.sin(x)\n",
    "\n",
    "plt.plot(x, y)"
   ]
  },
  {
   "cell_type": "code",
   "execution_count": null,
   "id": "b110c1e3-00d6-435d-9221-bede9de9917b",
   "metadata": {},
   "outputs": [],
   "source": []
  }
 ],
 "metadata": {
  "kernelspec": {
   "display_name": "Python 3 (ipykernel)",
   "language": "python",
   "name": "python3"
  },
  "language_info": {
   "codemirror_mode": {
    "name": "ipython",
    "version": 3
   },
   "file_extension": ".py",
   "mimetype": "text/x-python",
   "name": "python",
   "nbconvert_exporter": "python",
   "pygments_lexer": "ipython3",
   "version": "3.9.6"
  }
 },
 "nbformat": 4,
 "nbformat_minor": 5
}
