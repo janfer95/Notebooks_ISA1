{
 "cells": [
  {
   "cell_type": "markdown",
   "id": "25e79680-cada-454a-a73e-0328be637ced",
   "metadata": {},
   "source": [
    "# TP1 : Concepts de base\n",
    "\n",
    "## 1. Définition et déclaration de variables\n",
    "\n",
    "We can define variables simply by writing the name of the variable and then \"assigning\" a value to it, with the = symbol.\n",
    "Then to reproduce the variable in this notebook, we can simply write the name of the variable. If we then execute the cell\n",
    "(for example by pressing Shift + Enter), it shows us the value that we assigned to it. "
   ]
  },
  {
   "cell_type": "code",
   "execution_count": 1,
   "id": "c0dffafb-e507-4ec0-b099-0e22a034bc08",
   "metadata": {},
   "outputs": [
    {
     "data": {
      "text/plain": [
       "42"
      ]
     },
     "execution_count": 1,
     "metadata": {},
     "output_type": "execute_result"
    }
   ],
   "source": [
    "variable1 = 42\n",
    "variable1"
   ]
  },
  {
   "cell_type": "markdown",
   "id": "d87709bf-1b2e-41b6-b286-df2b18e95bcc",
   "metadata": {},
   "source": [
    "We can choose the variable name (almost) freely, it can be long or short, it can contain underscores (this symbol -> _ ), and a mixture of numbers, letters, and undersores. This is for example a valid, but not really useful variable name: `fDFrds35_fKLh_3`. It would work, but we would have a hard time remembering it. It's always better to use variable names that are not too long, but summarise what they stand for. If we talk about the radius of a circle, we could use `r`, `rad`, or `radius`, and all of them (especially the first and the last) would be quite easy to understand.\n",
    "\n",
    "We also can assign the variable decimal numbers like this:"
   ]
  },
  {
   "cell_type": "code",
   "execution_count": 2,
   "id": "e2ae7699-c24b-4fd7-b75b-a8613fb83e6e",
   "metadata": {},
   "outputs": [
    {
     "data": {
      "text/plain": [
       "4.0"
      ]
     },
     "execution_count": 2,
     "metadata": {},
     "output_type": "execute_result"
    }
   ],
   "source": [
    "decimal = 4.0 \n",
    "decimal"
   ]
  },
  {
   "cell_type": "markdown",
   "id": "c5ef9fed-e7b7-4944-b161-7dd06c3429d6",
   "metadata": {},
   "source": [
    "And even use scientific notation:"
   ]
  },
  {
   "cell_type": "code",
   "execution_count": 3,
   "id": "5b517804-b9a5-42df-8503-66d2b582cbba",
   "metadata": {},
   "outputs": [
    {
     "data": {
      "text/plain": [
       "0.001"
      ]
     },
     "execution_count": 3,
     "metadata": {},
     "output_type": "execute_result"
    }
   ],
   "source": [
    "small_number = 1e-3\n",
    "small_number"
   ]
  },
  {
   "cell_type": "code",
   "execution_count": 4,
   "id": "68d4fb62-ed23-4727-a20c-f43d2d24a93d",
   "metadata": {},
   "outputs": [
    {
     "data": {
      "text/plain": [
       "100000.0"
      ]
     },
     "execution_count": 4,
     "metadata": {},
     "output_type": "execute_result"
    }
   ],
   "source": [
    "large_number = 1e5\n",
    "large_number"
   ]
  },
  {
   "cell_type": "markdown",
   "id": "417b7374-4d99-4155-a01b-8c13e4bb286b",
   "metadata": {},
   "source": [
    "Pay attention that you **don't** use spaces in your names, otherwise you will get an error like here:"
   ]
  },
  {
   "cell_type": "code",
   "execution_count": 5,
   "id": "542301fd-0647-4ebc-8c25-ad3e6545c0be",
   "metadata": {},
   "outputs": [
    {
     "ename": "SyntaxError",
     "evalue": "invalid syntax (786578568.py, line 2)",
     "output_type": "error",
     "traceback": [
      "\u001b[0;36m  File \u001b[0;32m\"/tmp/ipykernel_14308/786578568.py\"\u001b[0;36m, line \u001b[0;32m2\u001b[0m\n\u001b[0;31m    mon age = 26\u001b[0m\n\u001b[0m        ^\u001b[0m\n\u001b[0;31mSyntaxError\u001b[0m\u001b[0;31m:\u001b[0m invalid syntax\n"
     ]
    }
   ],
   "source": [
    "# Ça marche pas\n",
    "mon age = 26"
   ]
  },
  {
   "cell_type": "markdown",
   "id": "15eca2ef-f6d0-4b36-9fd9-4af3b7daa3fb",
   "metadata": {},
   "source": [
    "But you can use underscores instead! "
   ]
  },
  {
   "cell_type": "code",
   "execution_count": 6,
   "id": "2d392c74-b3ff-4e0e-812f-d4c685748622",
   "metadata": {},
   "outputs": [
    {
     "data": {
      "text/plain": [
       "18"
      ]
     },
     "execution_count": 6,
     "metadata": {},
     "output_type": "execute_result"
    }
   ],
   "source": [
    "# Ça marche\n",
    "mon_age = 18\n",
    "mon_age"
   ]
  },
  {
   "cell_type": "markdown",
   "id": "45756fd0-1b8c-4a7a-941b-9d75fed6ff3b",
   "metadata": {},
   "source": [
    "You can also assign variables to variables like in this example here"
   ]
  },
  {
   "cell_type": "code",
   "execution_count": 7,
   "id": "602e391a-1eae-4703-a813-5773a1700df2",
   "metadata": {},
   "outputs": [
    {
     "data": {
      "text/plain": [
       "5"
      ]
     },
     "execution_count": 7,
     "metadata": {},
     "output_type": "execute_result"
    }
   ],
   "source": [
    "var1 = 5\n",
    "var2 = var1\n",
    "var2"
   ]
  },
  {
   "cell_type": "markdown",
   "id": "64aaca0e-d28c-44bd-bc03-d895cdb4ebbb",
   "metadata": {},
   "source": [
    "And you don't even have to work with numbers! If you're interested in working with text, then you have to put your text into double quotation marks `\"Like here\"` or in single quotations marks `'this works as well'`"
   ]
  },
  {
   "cell_type": "code",
   "execution_count": 8,
   "id": "39673d7b-939a-4bb4-b121-3ccffc951e7e",
   "metadata": {},
   "outputs": [
    {
     "data": {
      "text/plain": [
       "'Hello world'"
      ]
     },
     "execution_count": 8,
     "metadata": {},
     "output_type": "execute_result"
    }
   ],
   "source": [
    "Chaine1 = \"Hello world\"\n",
    "Chaine1"
   ]
  },
  {
   "cell_type": "code",
   "execution_count": 9,
   "id": "87cd1464-79ee-4778-8c5b-bfb6c374d38a",
   "metadata": {},
   "outputs": [
    {
     "data": {
      "text/plain": [
       "'Python is pretty cool'"
      ]
     },
     "execution_count": 9,
     "metadata": {},
     "output_type": "execute_result"
    }
   ],
   "source": [
    "Chaine2 = 'Python is pretty cool'\n",
    "Chaine2"
   ]
  },
  {
   "cell_type": "markdown",
   "id": "7cc2c186-127f-4f20-bb27-7cb00d2a6167",
   "metadata": {},
   "source": [
    "But pay attention to the spelling of your variables! Python differentiates between lower- and uppercase, that means `Chaine1` **IS NOT** the same as `chaine1`. In fact, if we type `chaine1` and execute the cell, he tells us that he does not know what chaine1 is supposed to be. That makes sense, since we never defined it! "
   ]
  },
  {
   "cell_type": "code",
   "execution_count": 10,
   "id": "c03b2a48-d3d4-46c0-b1b8-c0e9aaaad367",
   "metadata": {},
   "outputs": [
    {
     "ename": "NameError",
     "evalue": "name 'chaine1' is not defined",
     "output_type": "error",
     "traceback": [
      "\u001b[0;31m---------------------------------------------------------------------------\u001b[0m",
      "\u001b[0;31mNameError\u001b[0m                                 Traceback (most recent call last)",
      "\u001b[0;32m/tmp/ipykernel_14308/1963766926.py\u001b[0m in \u001b[0;36m<module>\u001b[0;34m\u001b[0m\n\u001b[1;32m      1\u001b[0m \u001b[0;31m# Python est sensible à la casse, donc ça marche pas\u001b[0m\u001b[0;34m\u001b[0m\u001b[0;34m\u001b[0m\u001b[0;34m\u001b[0m\u001b[0m\n\u001b[0;32m----> 2\u001b[0;31m \u001b[0mchaine1\u001b[0m\u001b[0;34m\u001b[0m\u001b[0;34m\u001b[0m\u001b[0m\n\u001b[0m",
      "\u001b[0;31mNameError\u001b[0m: name 'chaine1' is not defined"
     ]
    }
   ],
   "source": [
    "# Python est sensible à la casse, donc ça marche pas\n",
    "chaine1"
   ]
  },
  {
   "cell_type": "markdown",
   "id": "d7e73ef2-ffd1-4f9d-99ad-6fec32990600",
   "metadata": {},
   "source": [
    "## 2a. Opération sur les variables\n",
    "Alright, cool, now what can we do with those variables? A LOT! But let's start small. We can for example, simply do some math calculations. We can add, subtract, multiply, divide, etc...\n",
    "\n",
    "So, for adding and subtracting, there's no surprise"
   ]
  },
  {
   "cell_type": "code",
   "execution_count": 11,
   "id": "04c3c7eb-7a81-48a4-b1ee-005decb6468c",
   "metadata": {},
   "outputs": [
    {
     "data": {
      "text/plain": [
       "12"
      ]
     },
     "execution_count": 11,
     "metadata": {},
     "output_type": "execute_result"
    }
   ],
   "source": [
    "x = 2\n",
    "x + 10"
   ]
  },
  {
   "cell_type": "code",
   "execution_count": 12,
   "id": "9dcad44c-8238-457a-a85a-98fabe8d8557",
   "metadata": {},
   "outputs": [
    {
     "data": {
      "text/plain": [
       "1"
      ]
     },
     "execution_count": 12,
     "metadata": {},
     "output_type": "execute_result"
    }
   ],
   "source": [
    "x - 1"
   ]
  },
  {
   "cell_type": "markdown",
   "id": "8f9313f2-9eab-4c2b-9644-b28b065dc70b",
   "metadata": {},
   "source": [
    "Some of you might wonder why 1 and not 11? When we computed `x + 10`, we did not save the the result (12), but rather just displayed it. So the value of `x` after the computation is still 2. And therefore `x - 1` equals 1...\n",
    "\n",
    "Now multiplication and division:"
   ]
  },
  {
   "cell_type": "code",
   "execution_count": 13,
   "id": "adb4c763-6e00-4332-90cc-6085e31e362f",
   "metadata": {},
   "outputs": [
    {
     "data": {
      "text/plain": [
       "6"
      ]
     },
     "execution_count": 13,
     "metadata": {},
     "output_type": "execute_result"
    }
   ],
   "source": [
    "3*x"
   ]
  },
  {
   "cell_type": "code",
   "execution_count": 14,
   "id": "14c597ef-8038-4fdd-bb79-dfa1a1b559d7",
   "metadata": {},
   "outputs": [
    {
     "data": {
      "text/plain": [
       "0.6666666666666666"
      ]
     },
     "execution_count": 14,
     "metadata": {},
     "output_type": "execute_result"
    }
   ],
   "source": [
    "x/3"
   ]
  },
  {
   "cell_type": "markdown",
   "id": "1483bde7-23b3-4afe-ae5c-26aa0f650579",
   "metadata": {},
   "source": [
    "Easy, right? \n",
    "\n",
    "Now to somewhat trickier stuff. You can compute powers, by using two times the multiplication sign, like here:"
   ]
  },
  {
   "cell_type": "code",
   "execution_count": 15,
   "id": "1c04ba31-fb7e-4ac0-bc1c-7dcaeb5f7538",
   "metadata": {},
   "outputs": [
    {
     "data": {
      "text/plain": [
       "4"
      ]
     },
     "execution_count": 15,
     "metadata": {},
     "output_type": "execute_result"
    }
   ],
   "source": [
    "x**2"
   ]
  },
  {
   "cell_type": "code",
   "execution_count": 16,
   "id": "9cc4e521-98bb-41d7-8717-4f93af131bfe",
   "metadata": {},
   "outputs": [
    {
     "data": {
      "text/plain": [
       "125"
      ]
     },
     "execution_count": 16,
     "metadata": {},
     "output_type": "execute_result"
    }
   ],
   "source": [
    "5**3"
   ]
  },
  {
   "cell_type": "markdown",
   "id": "98475496-0f89-4989-9b16-5e78a4da8a08",
   "metadata": {},
   "source": [
    "Some other operations which are useful in programming, for example, a double slash can be used for the euclidean division of two numbers:"
   ]
  },
  {
   "cell_type": "code",
   "execution_count": 17,
   "id": "5f5b272b-3c94-4e56-b988-51a1e62a40cf",
   "metadata": {},
   "outputs": [
    {
     "data": {
      "text/plain": [
       "0"
      ]
     },
     "execution_count": 17,
     "metadata": {},
     "output_type": "execute_result"
    }
   ],
   "source": [
    "# Le double / force la division euclidienne\n",
    "x//3"
   ]
  },
  {
   "cell_type": "code",
   "execution_count": 18,
   "id": "82a782b8-a71a-4cc0-805f-88642830a562",
   "metadata": {},
   "outputs": [
    {
     "data": {
      "text/plain": [
       "2"
      ]
     },
     "execution_count": 18,
     "metadata": {},
     "output_type": "execute_result"
    }
   ],
   "source": [
    "9//4"
   ]
  },
  {
   "cell_type": "code",
   "execution_count": 19,
   "id": "6fc0db5d-ca3d-4886-8fc0-39720e145945",
   "metadata": {},
   "outputs": [
    {
     "data": {
      "text/plain": [
       "3"
      ]
     },
     "execution_count": 19,
     "metadata": {},
     "output_type": "execute_result"
    }
   ],
   "source": [
    "10//3"
   ]
  },
  {
   "cell_type": "markdown",
   "id": "e883fe45-aeaf-4f18-910d-4cdffd216d5e",
   "metadata": {},
   "source": [
    "And a percentage sign is used for the module operation, which gives us the remainder of the division:"
   ]
  },
  {
   "cell_type": "code",
   "execution_count": 20,
   "id": "bb62c326-ff18-473f-a069-77552b0e3d5b",
   "metadata": {},
   "outputs": [
    {
     "data": {
      "text/plain": [
       "2"
      ]
     },
     "execution_count": 20,
     "metadata": {},
     "output_type": "execute_result"
    }
   ],
   "source": [
    "x % 3"
   ]
  },
  {
   "cell_type": "code",
   "execution_count": 21,
   "id": "2f1e995f-4e3a-4bd7-a325-885cc0f65d18",
   "metadata": {},
   "outputs": [
    {
     "data": {
      "text/plain": [
       "1"
      ]
     },
     "execution_count": 21,
     "metadata": {},
     "output_type": "execute_result"
    }
   ],
   "source": [
    "9%4"
   ]
  },
  {
   "cell_type": "code",
   "execution_count": 22,
   "id": "7d963079-5d89-4b53-8dd7-b5f96fedbef2",
   "metadata": {},
   "outputs": [
    {
     "data": {
      "text/plain": [
       "2"
      ]
     },
     "execution_count": 22,
     "metadata": {},
     "output_type": "execute_result"
    }
   ],
   "source": [
    "10%4"
   ]
  },
  {
   "cell_type": "markdown",
   "id": "5659a4d3-bfcd-4435-b21f-f0755143a71b",
   "metadata": {},
   "source": [
    "## 2b. Opération sur les chaînes de caractère\n",
    "\n",
    "We don't only have to work with numbers, we can also use words instead. In Python a word (or everything between single- or double-quotation marks is called a **string**. The cool thing is: It is easy to work with them and we can even perform some operations on them! \n",
    "\n",
    "Let's add two strings, to see what it gives. "
   ]
  },
  {
   "cell_type": "code",
   "execution_count": 23,
   "id": "0bb4dc8b-45bf-4d22-aa11-6b00d3bdb915",
   "metadata": {},
   "outputs": [
    {
     "data": {
      "text/plain": [
       "'salut Python'"
      ]
     },
     "execution_count": 23,
     "metadata": {},
     "output_type": "execute_result"
    }
   ],
   "source": [
    "chaine1 = \"salut\"\n",
    "chaine2 = ' Python'\n",
    "chaine1 + chaine2"
   ]
  },
  {
   "cell_type": "markdown",
   "id": "f9c90aec",
   "metadata": {},
   "source": [
    "So adding two strings, just combines them into one long string. Good to know! \n",
    "What happens if we multiply a string with a number?"
   ]
  },
  {
   "cell_type": "code",
   "execution_count": 24,
   "id": "6fc9e2c9-a428-4275-9c64-b0fc2e5ccdcb",
   "metadata": {},
   "outputs": [
    {
     "data": {
      "text/plain": [
       "' Python Python Python'"
      ]
     },
     "execution_count": 24,
     "metadata": {},
     "output_type": "execute_result"
    }
   ],
   "source": [
    "chaine2 * 3"
   ]
  },
  {
   "cell_type": "markdown",
   "id": "890b66f6",
   "metadata": {},
   "source": [
    "It gets repeated as many times as we specify! \n",
    "\n",
    "But what if we want to add a number to an already existing string, let's see what happens:"
   ]
  },
  {
   "cell_type": "code",
   "execution_count": 25,
   "id": "df9dec7e",
   "metadata": {},
   "outputs": [
    {
     "ename": "TypeError",
     "evalue": "can only concatenate str (not \"int\") to str",
     "output_type": "error",
     "traceback": [
      "\u001b[0;31m---------------------------------------------------------------------------\u001b[0m",
      "\u001b[0;31mTypeError\u001b[0m                                 Traceback (most recent call last)",
      "\u001b[0;32m/tmp/ipykernel_14308/2399380410.py\u001b[0m in \u001b[0;36m<module>\u001b[0;34m\u001b[0m\n\u001b[1;32m      1\u001b[0m \u001b[0ma\u001b[0m \u001b[0;34m=\u001b[0m \u001b[0;36m5\u001b[0m\u001b[0;34m\u001b[0m\u001b[0;34m\u001b[0m\u001b[0m\n\u001b[0;32m----> 2\u001b[0;31m \u001b[0mchaine1\u001b[0m \u001b[0;34m+\u001b[0m \u001b[0ma\u001b[0m\u001b[0;34m\u001b[0m\u001b[0;34m\u001b[0m\u001b[0m\n\u001b[0m",
      "\u001b[0;31mTypeError\u001b[0m: can only concatenate str (not \"int\") to str"
     ]
    }
   ],
   "source": [
    "a = 5\n",
    "chaine1 + a"
   ]
  },
  {
   "cell_type": "markdown",
   "id": "95319177",
   "metadata": {},
   "source": [
    "Oops, this gives an error... We can't add a string (a word) with an integer (a number). So we have to convert the number into a word before! We can do this simply by `str(number)`, like in the example below:"
   ]
  },
  {
   "cell_type": "code",
   "execution_count": 26,
   "id": "3a8e8c00-5f8e-4eb5-acad-dc8fa3cc487e",
   "metadata": {},
   "outputs": [
    {
     "data": {
      "text/plain": [
       "'salut5'"
      ]
     },
     "execution_count": 26,
     "metadata": {},
     "output_type": "execute_result"
    }
   ],
   "source": [
    "# Transformer un nombre à un caractère avec str\n",
    "a = 5\n",
    "chaine1 + str(a)"
   ]
  },
  {
   "cell_type": "markdown",
   "id": "6a3ae96a",
   "metadata": {},
   "source": [
    "Nice!"
   ]
  },
  {
   "cell_type": "markdown",
   "id": "58531b73-7869-421b-9943-c0dff6b283f5",
   "metadata": {},
   "source": [
    "## 3. Fonctions de base\n",
    "\n",
    "Alright, but if we write a program, we want to interact with the user, right? For that we will use Python functions. A function is just a part of Python, that receives something (sometimes it doesn't even receive anything!), a so-called input or argument, and gives us something in return (the output). It sounds a bit more mysterious than it is, so let's look at an example. We start with the `print()` function. \n",
    "\n",
    "### La fonction print()\n",
    "This is probably one of the most basic, but also one of the most used functions. You can give it a message and then it shows it on your screen. "
   ]
  },
  {
   "cell_type": "code",
   "execution_count": 27,
   "id": "a1132b8b-1eab-41c6-a4ac-ca9f69f7f6bd",
   "metadata": {},
   "outputs": [
    {
     "name": "stdout",
     "output_type": "stream",
     "text": [
      "4\n"
     ]
    }
   ],
   "source": [
    "a = 4\n",
    "print(a)"
   ]
  },
  {
   "cell_type": "code",
   "execution_count": 28,
   "id": "43c7131b-5b96-450d-b7f2-c18b94699772",
   "metadata": {},
   "outputs": [
    {
     "name": "stdout",
     "output_type": "stream",
     "text": [
      "1.5\n"
     ]
    }
   ],
   "source": [
    "b = 1.5\n",
    "print(b)"
   ]
  },
  {
   "cell_type": "code",
   "execution_count": 29,
   "id": "b78d7f4c-635c-4b64-b46a-b2e7997faf6c",
   "metadata": {},
   "outputs": [
    {
     "name": "stdout",
     "output_type": "stream",
     "text": [
      "Hello World\n"
     ]
    }
   ],
   "source": [
    "chaine = \"Hello World\"\n",
    "print(chaine)"
   ]
  },
  {
   "cell_type": "markdown",
   "id": "0de9a99a",
   "metadata": {},
   "source": [
    "You can even use multiple inputs/arguments, seperated by commas and it still works! "
   ]
  },
  {
   "cell_type": "code",
   "execution_count": 30,
   "id": "bd02435f-8865-4a01-aee3-43ed418ff961",
   "metadata": {},
   "outputs": [
    {
     "name": "stdout",
     "output_type": "stream",
     "text": [
      "Hello World 4 1.5\n"
     ]
    }
   ],
   "source": [
    "print(chaine, a, b)"
   ]
  },
  {
   "cell_type": "markdown",
   "id": "44701c78",
   "metadata": {},
   "source": [
    "If you want to, you can even perform the calculations inside the print function"
   ]
  },
  {
   "cell_type": "code",
   "execution_count": 31,
   "id": "cee00939-4c89-42c8-ad7c-7dc14adb524b",
   "metadata": {},
   "outputs": [
    {
     "name": "stdout",
     "output_type": "stream",
     "text": [
      "a*b = 6.0\n"
     ]
    }
   ],
   "source": [
    "print(\"a*b =\", a*b)"
   ]
  },
  {
   "cell_type": "markdown",
   "id": "a948910a-9c3e-4e87-9427-9fce1abd9964",
   "metadata": {},
   "source": [
    "### La fonction input()\n",
    "Now, I see this function a bit like the opposite of print. You ask the user to give/input a certain value to the program, that is then saved in a variable. In action it looks like that:"
   ]
  },
  {
   "cell_type": "code",
   "execution_count": 32,
   "id": "854e4d3c-0777-4439-8e3f-60572c397ed8",
   "metadata": {},
   "outputs": [
    {
     "name": "stdout",
     "output_type": "stream",
     "text": [
      "Entrer votre prénom :Jannik\n"
     ]
    }
   ],
   "source": [
    "prenom = input(\"Entrer votre prénom :\")"
   ]
  },
  {
   "cell_type": "code",
   "execution_count": 33,
   "id": "7cfd5f9c-d6be-4fd1-b3f1-ec902733a798",
   "metadata": {},
   "outputs": [
    {
     "name": "stdout",
     "output_type": "stream",
     "text": [
      "Entrer votre âge :26\n"
     ]
    }
   ],
   "source": [
    "age = input(\"Entrer votre âge :\")"
   ]
  },
  {
   "cell_type": "code",
   "execution_count": 34,
   "id": "56921d27-020f-4cfd-bc78-0daa697ab562",
   "metadata": {},
   "outputs": [
    {
     "name": "stdout",
     "output_type": "stream",
     "text": [
      "26\n"
     ]
    }
   ],
   "source": [
    "print(age)"
   ]
  },
  {
   "cell_type": "code",
   "execution_count": 35,
   "id": "bf266478-1b00-44fa-9904-a8c928126313",
   "metadata": {},
   "outputs": [
    {
     "name": "stdout",
     "output_type": "stream",
     "text": [
      "Jannik\n"
     ]
    }
   ],
   "source": [
    "print(prenom)"
   ]
  },
  {
   "cell_type": "markdown",
   "id": "b6874f88",
   "metadata": {},
   "source": [
    "One little note: Even if you type in a number, Python saves the input as a word/string. So you can't calculate with this number right away! For example if we try:"
   ]
  },
  {
   "cell_type": "code",
   "execution_count": 36,
   "id": "02e4506c",
   "metadata": {},
   "outputs": [
    {
     "ename": "TypeError",
     "evalue": "unsupported operand type(s) for -: 'str' and 'int'",
     "output_type": "error",
     "traceback": [
      "\u001b[0;31m---------------------------------------------------------------------------\u001b[0m",
      "\u001b[0;31mTypeError\u001b[0m                                 Traceback (most recent call last)",
      "\u001b[0;32m/tmp/ipykernel_14308/615848030.py\u001b[0m in \u001b[0;36m<module>\u001b[0;34m\u001b[0m\n\u001b[0;32m----> 1\u001b[0;31m \u001b[0mage\u001b[0m \u001b[0;34m-\u001b[0m \u001b[0;36m4\u001b[0m\u001b[0;34m\u001b[0m\u001b[0;34m\u001b[0m\u001b[0m\n\u001b[0m",
      "\u001b[0;31mTypeError\u001b[0m: unsupported operand type(s) for -: 'str' and 'int'"
     ]
    }
   ],
   "source": [
    "age - 4"
   ]
  },
  {
   "cell_type": "markdown",
   "id": "85455270",
   "metadata": {},
   "source": [
    "Python tells us that we can't add a string and an integer together. So we have to convert the variable `age` to a number first! It's quite easy, to convert it to an integer we just use `int()`:"
   ]
  },
  {
   "cell_type": "code",
   "execution_count": 37,
   "id": "75fbd2e7",
   "metadata": {},
   "outputs": [
    {
     "data": {
      "text/plain": [
       "22"
      ]
     },
     "execution_count": 37,
     "metadata": {},
     "output_type": "execute_result"
    }
   ],
   "source": [
    "int(age) - 4"
   ]
  },
  {
   "cell_type": "markdown",
   "id": "783eb888",
   "metadata": {},
   "source": [
    "And now it works without any problem! "
   ]
  },
  {
   "cell_type": "markdown",
   "id": "986e5109-8655-41fb-be4a-8e777f2a5db5",
   "metadata": {},
   "source": [
    "## 4. Modules\n",
    "Modules are big libraries of Python code, that some other people wrote to make our life easier. Let's imagine for example if we want to use $\\pi$ in our calculations, but we would always have to look it up first on the internet and write in our program `pi = 3.14...`. This gets a bit annoying after some time. It gets even worse, if you want to calculate the `sin` or `cos` of something! You would have to look up an algorithm, to see how you can compute it and write it every single time into your program. Things would get very complicated, very quickly.\n",
    "\n",
    "So we just use modules or libraries! I think the concept will get easier when we some examples. \n",
    "\n",
    "### Le module math\n",
    "We're going to start with the module `math`. When you install Python, it gets automatically installed too. To start using all the code, that is in this library, we have to `import` the library first. Let's do it quickly! "
   ]
  },
  {
   "cell_type": "code",
   "execution_count": 38,
   "id": "87807659-3f4d-4642-8f97-4e8fd29a2766",
   "metadata": {},
   "outputs": [],
   "source": [
    "import math"
   ]
  },
  {
   "cell_type": "markdown",
   "id": "762fe4e0",
   "metadata": {},
   "source": [
    "That's it! Now we have access to all the code of this library. If we want to use a certain part of the library, we simply have to use `math.name_of_the_function_that_you_want_to_use()`. For instance:"
   ]
  },
  {
   "cell_type": "code",
   "execution_count": 39,
   "id": "3ddff44d",
   "metadata": {},
   "outputs": [
    {
     "data": {
      "text/plain": [
       "1.0"
      ]
     },
     "execution_count": 39,
     "metadata": {},
     "output_type": "execute_result"
    }
   ],
   "source": [
    "math.exp(0)"
   ]
  },
  {
   "cell_type": "code",
   "execution_count": 40,
   "id": "eae93bde-a076-4bdc-a386-6066640b9f37",
   "metadata": {},
   "outputs": [
    {
     "data": {
      "text/plain": [
       "2.718281828459045"
      ]
     },
     "execution_count": 40,
     "metadata": {},
     "output_type": "execute_result"
    }
   ],
   "source": [
    "math.exp(1)"
   ]
  },
  {
   "cell_type": "code",
   "execution_count": 41,
   "id": "4d50aea0-82b8-4dad-bd51-75376a0e497c",
   "metadata": {},
   "outputs": [
    {
     "data": {
      "text/plain": [
       "3.141592653589793"
      ]
     },
     "execution_count": 41,
     "metadata": {},
     "output_type": "execute_result"
    }
   ],
   "source": [
    "math.pi"
   ]
  },
  {
   "cell_type": "markdown",
   "id": "f879ecf3",
   "metadata": {},
   "source": [
    "That's already very nice! Can we maybe even do better? It is a bit annoying, to always write `math` in front of our functions. This gets worse when the names of the libraries are even longer, like one often used library: `matplotlib.pyplot`. Imagine writing this every single time when you want to use a function! \n",
    "\n",
    "So what we can do is simply define an abbreviation, that is then used for this library. \n",
    "Here for example we could simply write:\n",
    "`import math as m`. What does it do? Let's check:"
   ]
  },
  {
   "cell_type": "code",
   "execution_count": 42,
   "id": "14919b32",
   "metadata": {},
   "outputs": [],
   "source": [
    "import math as m"
   ]
  },
  {
   "cell_type": "code",
   "execution_count": 43,
   "id": "969e316e",
   "metadata": {},
   "outputs": [
    {
     "data": {
      "text/plain": [
       "1.0"
      ]
     },
     "execution_count": 43,
     "metadata": {},
     "output_type": "execute_result"
    }
   ],
   "source": [
    "m.exp(0)"
   ]
  },
  {
   "cell_type": "code",
   "execution_count": 44,
   "id": "b7b010c0",
   "metadata": {},
   "outputs": [
    {
     "data": {
      "text/plain": [
       "1.0"
      ]
     },
     "execution_count": 44,
     "metadata": {},
     "output_type": "execute_result"
    }
   ],
   "source": [
    "m.sin(m.pi/2)"
   ]
  },
  {
   "cell_type": "markdown",
   "id": "a849510e",
   "metadata": {},
   "source": [
    "This is much shorter and much easier to read! Certain libraries have standard abbreviations, that people use all over the world. I would recommend using them too, so that when you show your code to someone, they can understand it quickly too. \n",
    "\n",
    "Here are some examples:\n",
    "- `import numpy as np`\n",
    "- `import matplotlib.pyplot as plt`\n",
    "- `import pandas as pd` \n",
    "\n",
    "We are not really going to use these libraries in the course, but if you will continue using Python, you will see them a lot!"
   ]
  },
  {
   "cell_type": "markdown",
   "id": "33745941",
   "metadata": {},
   "source": [
    "## 5. Plots and famous libraries\n",
    "\n",
    "Just to show you two of those libraries \"in action\", we will quickly see how to make a plot of a `sin` curve using `numpy` and `matplotlib`.\n",
    "\n",
    "First we import the two libraries with their common abbreviations."
   ]
  },
  {
   "cell_type": "code",
   "execution_count": 45,
   "id": "02113353-03da-4f54-b094-de522f2e6d73",
   "metadata": {},
   "outputs": [],
   "source": [
    "import numpy as np\n",
    "import matplotlib.pyplot as plt"
   ]
  },
  {
   "cell_type": "markdown",
   "id": "56d60c12",
   "metadata": {},
   "source": [
    "Now we create the x and the y data of the plot. First we will use a function to get a 1000 evenly spaced numbers between 0 and $2 \\pi$:"
   ]
  },
  {
   "cell_type": "code",
   "execution_count": 46,
   "id": "5114fa19",
   "metadata": {},
   "outputs": [
    {
     "data": {
      "text/plain": [
       "array([0.        , 0.00628947, 0.01257895, 0.01886842, 0.0251579 ,\n",
       "       0.03144737, 0.03773685, 0.04402632, 0.0503158 , 0.05660527,\n",
       "       0.06289475, 0.06918422, 0.0754737 , 0.08176317, 0.08805265,\n",
       "       0.09434212, 0.1006316 , 0.10692107, 0.11321055, 0.11950002,\n",
       "       0.1257895 , 0.13207897, 0.13836845, 0.14465792, 0.15094739,\n",
       "       0.15723687, 0.16352634, 0.16981582, 0.17610529, 0.18239477,\n",
       "       0.18868424, 0.19497372, 0.20126319, 0.20755267, 0.21384214,\n",
       "       0.22013162, 0.22642109, 0.23271057, 0.23900004, 0.24528952,\n",
       "       0.25157899, 0.25786847, 0.26415794, 0.27044742, 0.27673689,\n",
       "       0.28302637, 0.28931584, 0.29560531, 0.30189479, 0.30818426,\n",
       "       0.31447374, 0.32076321, 0.32705269, 0.33334216, 0.33963164,\n",
       "       0.34592111, 0.35221059, 0.35850006, 0.36478954, 0.37107901,\n",
       "       0.37736849, 0.38365796, 0.38994744, 0.39623691, 0.40252639,\n",
       "       0.40881586, 0.41510534, 0.42139481, 0.42768429, 0.43397376,\n",
       "       0.44026323, 0.44655271, 0.45284218, 0.45913166, 0.46542113,\n",
       "       0.47171061, 0.47800008, 0.48428956, 0.49057903, 0.49686851,\n",
       "       0.50315798, 0.50944746, 0.51573693, 0.52202641, 0.52831588,\n",
       "       0.53460536, 0.54089483, 0.54718431, 0.55347378, 0.55976326,\n",
       "       0.56605273, 0.57234221, 0.57863168, 0.58492115, 0.59121063,\n",
       "       0.5975001 , 0.60378958, 0.61007905, 0.61636853, 0.622658  ,\n",
       "       0.62894748, 0.63523695, 0.64152643, 0.6478159 , 0.65410538,\n",
       "       0.66039485, 0.66668433, 0.6729738 , 0.67926328, 0.68555275,\n",
       "       0.69184223, 0.6981317 , 0.70442118, 0.71071065, 0.71700013,\n",
       "       0.7232896 , 0.72957907, 0.73586855, 0.74215802, 0.7484475 ,\n",
       "       0.75473697, 0.76102645, 0.76731592, 0.7736054 , 0.77989487,\n",
       "       0.78618435, 0.79247382, 0.7987633 , 0.80505277, 0.81134225,\n",
       "       0.81763172, 0.8239212 , 0.83021067, 0.83650015, 0.84278962,\n",
       "       0.8490791 , 0.85536857, 0.86165805, 0.86794752, 0.87423699,\n",
       "       0.88052647, 0.88681594, 0.89310542, 0.89939489, 0.90568437,\n",
       "       0.91197384, 0.91826332, 0.92455279, 0.93084227, 0.93713174,\n",
       "       0.94342122, 0.94971069, 0.95600017, 0.96228964, 0.96857912,\n",
       "       0.97486859, 0.98115807, 0.98744754, 0.99373702, 1.00002649,\n",
       "       1.00631597, 1.01260544, 1.01889491, 1.02518439, 1.03147386,\n",
       "       1.03776334, 1.04405281, 1.05034229, 1.05663176, 1.06292124,\n",
       "       1.06921071, 1.07550019, 1.08178966, 1.08807914, 1.09436861,\n",
       "       1.10065809, 1.10694756, 1.11323704, 1.11952651, 1.12581599,\n",
       "       1.13210546, 1.13839494, 1.14468441, 1.15097389, 1.15726336,\n",
       "       1.16355283, 1.16984231, 1.17613178, 1.18242126, 1.18871073,\n",
       "       1.19500021, 1.20128968, 1.20757916, 1.21386863, 1.22015811,\n",
       "       1.22644758, 1.23273706, 1.23902653, 1.24531601, 1.25160548,\n",
       "       1.25789496, 1.26418443, 1.27047391, 1.27676338, 1.28305286,\n",
       "       1.28934233, 1.29563181, 1.30192128, 1.30821075, 1.31450023,\n",
       "       1.3207897 , 1.32707918, 1.33336865, 1.33965813, 1.3459476 ,\n",
       "       1.35223708, 1.35852655, 1.36481603, 1.3711055 , 1.37739498,\n",
       "       1.38368445, 1.38997393, 1.3962634 , 1.40255288, 1.40884235,\n",
       "       1.41513183, 1.4214213 , 1.42771078, 1.43400025, 1.44028973,\n",
       "       1.4465792 , 1.45286867, 1.45915815, 1.46544762, 1.4717371 ,\n",
       "       1.47802657, 1.48431605, 1.49060552, 1.496895  , 1.50318447,\n",
       "       1.50947395, 1.51576342, 1.5220529 , 1.52834237, 1.53463185,\n",
       "       1.54092132, 1.5472108 , 1.55350027, 1.55978975, 1.56607922,\n",
       "       1.5723687 , 1.57865817, 1.58494765, 1.59123712, 1.59752659,\n",
       "       1.60381607, 1.61010554, 1.61639502, 1.62268449, 1.62897397,\n",
       "       1.63526344, 1.64155292, 1.64784239, 1.65413187, 1.66042134,\n",
       "       1.66671082, 1.67300029, 1.67928977, 1.68557924, 1.69186872,\n",
       "       1.69815819, 1.70444767, 1.71073714, 1.71702662, 1.72331609,\n",
       "       1.72960557, 1.73589504, 1.74218451, 1.74847399, 1.75476346,\n",
       "       1.76105294, 1.76734241, 1.77363189, 1.77992136, 1.78621084,\n",
       "       1.79250031, 1.79878979, 1.80507926, 1.81136874, 1.81765821,\n",
       "       1.82394769, 1.83023716, 1.83652664, 1.84281611, 1.84910559,\n",
       "       1.85539506, 1.86168454, 1.86797401, 1.87426349, 1.88055296,\n",
       "       1.88684243, 1.89313191, 1.89942138, 1.90571086, 1.91200033,\n",
       "       1.91828981, 1.92457928, 1.93086876, 1.93715823, 1.94344771,\n",
       "       1.94973718, 1.95602666, 1.96231613, 1.96860561, 1.97489508,\n",
       "       1.98118456, 1.98747403, 1.99376351, 2.00005298, 2.00634246,\n",
       "       2.01263193, 2.01892141, 2.02521088, 2.03150035, 2.03778983,\n",
       "       2.0440793 , 2.05036878, 2.05665825, 2.06294773, 2.0692372 ,\n",
       "       2.07552668, 2.08181615, 2.08810563, 2.0943951 , 2.10068458,\n",
       "       2.10697405, 2.11326353, 2.119553  , 2.12584248, 2.13213195,\n",
       "       2.13842143, 2.1447109 , 2.15100038, 2.15728985, 2.16357932,\n",
       "       2.1698688 , 2.17615827, 2.18244775, 2.18873722, 2.1950267 ,\n",
       "       2.20131617, 2.20760565, 2.21389512, 2.2201846 , 2.22647407,\n",
       "       2.23276355, 2.23905302, 2.2453425 , 2.25163197, 2.25792145,\n",
       "       2.26421092, 2.2705004 , 2.27678987, 2.28307935, 2.28936882,\n",
       "       2.2956583 , 2.30194777, 2.30823724, 2.31452672, 2.32081619,\n",
       "       2.32710567, 2.33339514, 2.33968462, 2.34597409, 2.35226357,\n",
       "       2.35855304, 2.36484252, 2.37113199, 2.37742147, 2.38371094,\n",
       "       2.39000042, 2.39628989, 2.40257937, 2.40886884, 2.41515832,\n",
       "       2.42144779, 2.42773727, 2.43402674, 2.44031622, 2.44660569,\n",
       "       2.45289516, 2.45918464, 2.46547411, 2.47176359, 2.47805306,\n",
       "       2.48434254, 2.49063201, 2.49692149, 2.50321096, 2.50950044,\n",
       "       2.51578991, 2.52207939, 2.52836886, 2.53465834, 2.54094781,\n",
       "       2.54723729, 2.55352676, 2.55981624, 2.56610571, 2.57239519,\n",
       "       2.57868466, 2.58497414, 2.59126361, 2.59755308, 2.60384256,\n",
       "       2.61013203, 2.61642151, 2.62271098, 2.62900046, 2.63528993,\n",
       "       2.64157941, 2.64786888, 2.65415836, 2.66044783, 2.66673731,\n",
       "       2.67302678, 2.67931626, 2.68560573, 2.69189521, 2.69818468,\n",
       "       2.70447416, 2.71076363, 2.71705311, 2.72334258, 2.72963206,\n",
       "       2.73592153, 2.742211  , 2.74850048, 2.75478995, 2.76107943,\n",
       "       2.7673689 , 2.77365838, 2.77994785, 2.78623733, 2.7925268 ,\n",
       "       2.79881628, 2.80510575, 2.81139523, 2.8176847 , 2.82397418,\n",
       "       2.83026365, 2.83655313, 2.8428426 , 2.84913208, 2.85542155,\n",
       "       2.86171103, 2.8680005 , 2.87428998, 2.88057945, 2.88686892,\n",
       "       2.8931584 , 2.89944787, 2.90573735, 2.91202682, 2.9183163 ,\n",
       "       2.92460577, 2.93089525, 2.93718472, 2.9434742 , 2.94976367,\n",
       "       2.95605315, 2.96234262, 2.9686321 , 2.97492157, 2.98121105,\n",
       "       2.98750052, 2.99379   , 3.00007947, 3.00636895, 3.01265842,\n",
       "       3.0189479 , 3.02523737, 3.03152684, 3.03781632, 3.04410579,\n",
       "       3.05039527, 3.05668474, 3.06297422, 3.06926369, 3.07555317,\n",
       "       3.08184264, 3.08813212, 3.09442159, 3.10071107, 3.10700054,\n",
       "       3.11329002, 3.11957949, 3.12586897, 3.13215844, 3.13844792,\n",
       "       3.14473739, 3.15102687, 3.15731634, 3.16360582, 3.16989529,\n",
       "       3.17618476, 3.18247424, 3.18876371, 3.19505319, 3.20134266,\n",
       "       3.20763214, 3.21392161, 3.22021109, 3.22650056, 3.23279004,\n",
       "       3.23907951, 3.24536899, 3.25165846, 3.25794794, 3.26423741,\n",
       "       3.27052689, 3.27681636, 3.28310584, 3.28939531, 3.29568479,\n",
       "       3.30197426, 3.30826374, 3.31455321, 3.32084268, 3.32713216,\n",
       "       3.33342163, 3.33971111, 3.34600058, 3.35229006, 3.35857953,\n",
       "       3.36486901, 3.37115848, 3.37744796, 3.38373743, 3.39002691,\n",
       "       3.39631638, 3.40260586, 3.40889533, 3.41518481, 3.42147428,\n",
       "       3.42776376, 3.43405323, 3.44034271, 3.44663218, 3.45292166,\n",
       "       3.45921113, 3.4655006 , 3.47179008, 3.47807955, 3.48436903,\n",
       "       3.4906585 , 3.49694798, 3.50323745, 3.50952693, 3.5158164 ,\n",
       "       3.52210588, 3.52839535, 3.53468483, 3.5409743 , 3.54726378,\n",
       "       3.55355325, 3.55984273, 3.5661322 , 3.57242168, 3.57871115,\n",
       "       3.58500063, 3.5912901 , 3.59757958, 3.60386905, 3.61015852,\n",
       "       3.616448  , 3.62273747, 3.62902695, 3.63531642, 3.6416059 ,\n",
       "       3.64789537, 3.65418485, 3.66047432, 3.6667638 , 3.67305327,\n",
       "       3.67934275, 3.68563222, 3.6919217 , 3.69821117, 3.70450065,\n",
       "       3.71079012, 3.7170796 , 3.72336907, 3.72965855, 3.73594802,\n",
       "       3.7422375 , 3.74852697, 3.75481644, 3.76110592, 3.76739539,\n",
       "       3.77368487, 3.77997434, 3.78626382, 3.79255329, 3.79884277,\n",
       "       3.80513224, 3.81142172, 3.81771119, 3.82400067, 3.83029014,\n",
       "       3.83657962, 3.84286909, 3.84915857, 3.85544804, 3.86173752,\n",
       "       3.86802699, 3.87431647, 3.88060594, 3.88689542, 3.89318489,\n",
       "       3.89947436, 3.90576384, 3.91205331, 3.91834279, 3.92463226,\n",
       "       3.93092174, 3.93721121, 3.94350069, 3.94979016, 3.95607964,\n",
       "       3.96236911, 3.96865859, 3.97494806, 3.98123754, 3.98752701,\n",
       "       3.99381649, 4.00010596, 4.00639544, 4.01268491, 4.01897439,\n",
       "       4.02526386, 4.03155334, 4.03784281, 4.04413228, 4.05042176,\n",
       "       4.05671123, 4.06300071, 4.06929018, 4.07557966, 4.08186913,\n",
       "       4.08815861, 4.09444808, 4.10073756, 4.10702703, 4.11331651,\n",
       "       4.11960598, 4.12589546, 4.13218493, 4.13847441, 4.14476388,\n",
       "       4.15105336, 4.15734283, 4.16363231, 4.16992178, 4.17621126,\n",
       "       4.18250073, 4.1887902 , 4.19507968, 4.20136915, 4.20765863,\n",
       "       4.2139481 , 4.22023758, 4.22652705, 4.23281653, 4.239106  ,\n",
       "       4.24539548, 4.25168495, 4.25797443, 4.2642639 , 4.27055338,\n",
       "       4.27684285, 4.28313233, 4.2894218 , 4.29571128, 4.30200075,\n",
       "       4.30829023, 4.3145797 , 4.32086918, 4.32715865, 4.33344812,\n",
       "       4.3397376 , 4.34602707, 4.35231655, 4.35860602, 4.3648955 ,\n",
       "       4.37118497, 4.37747445, 4.38376392, 4.3900534 , 4.39634287,\n",
       "       4.40263235, 4.40892182, 4.4152113 , 4.42150077, 4.42779025,\n",
       "       4.43407972, 4.4403692 , 4.44665867, 4.45294815, 4.45923762,\n",
       "       4.4655271 , 4.47181657, 4.47810604, 4.48439552, 4.49068499,\n",
       "       4.49697447, 4.50326394, 4.50955342, 4.51584289, 4.52213237,\n",
       "       4.52842184, 4.53471132, 4.54100079, 4.54729027, 4.55357974,\n",
       "       4.55986922, 4.56615869, 4.57244817, 4.57873764, 4.58502712,\n",
       "       4.59131659, 4.59760607, 4.60389554, 4.61018502, 4.61647449,\n",
       "       4.62276396, 4.62905344, 4.63534291, 4.64163239, 4.64792186,\n",
       "       4.65421134, 4.66050081, 4.66679029, 4.67307976, 4.67936924,\n",
       "       4.68565871, 4.69194819, 4.69823766, 4.70452714, 4.71081661,\n",
       "       4.71710609, 4.72339556, 4.72968504, 4.73597451, 4.74226399,\n",
       "       4.74855346, 4.75484294, 4.76113241, 4.76742188, 4.77371136,\n",
       "       4.78000083, 4.78629031, 4.79257978, 4.79886926, 4.80515873,\n",
       "       4.81144821, 4.81773768, 4.82402716, 4.83031663, 4.83660611,\n",
       "       4.84289558, 4.84918506, 4.85547453, 4.86176401, 4.86805348,\n",
       "       4.87434296, 4.88063243, 4.88692191, 4.89321138, 4.89950086,\n",
       "       4.90579033, 4.9120798 , 4.91836928, 4.92465875, 4.93094823,\n",
       "       4.9372377 , 4.94352718, 4.94981665, 4.95610613, 4.9623956 ,\n",
       "       4.96868508, 4.97497455, 4.98126403, 4.9875535 , 4.99384298,\n",
       "       5.00013245, 5.00642193, 5.0127114 , 5.01900088, 5.02529035,\n",
       "       5.03157983, 5.0378693 , 5.04415878, 5.05044825, 5.05673772,\n",
       "       5.0630272 , 5.06931667, 5.07560615, 5.08189562, 5.0881851 ,\n",
       "       5.09447457, 5.10076405, 5.10705352, 5.113343  , 5.11963247,\n",
       "       5.12592195, 5.13221142, 5.1385009 , 5.14479037, 5.15107985,\n",
       "       5.15736932, 5.1636588 , 5.16994827, 5.17623775, 5.18252722,\n",
       "       5.1888167 , 5.19510617, 5.20139564, 5.20768512, 5.21397459,\n",
       "       5.22026407, 5.22655354, 5.23284302, 5.23913249, 5.24542197,\n",
       "       5.25171144, 5.25800092, 5.26429039, 5.27057987, 5.27686934,\n",
       "       5.28315882, 5.28944829, 5.29573777, 5.30202724, 5.30831672,\n",
       "       5.31460619, 5.32089567, 5.32718514, 5.33347462, 5.33976409,\n",
       "       5.34605356, 5.35234304, 5.35863251, 5.36492199, 5.37121146,\n",
       "       5.37750094, 5.38379041, 5.39007989, 5.39636936, 5.40265884,\n",
       "       5.40894831, 5.41523779, 5.42152726, 5.42781674, 5.43410621,\n",
       "       5.44039569, 5.44668516, 5.45297464, 5.45926411, 5.46555359,\n",
       "       5.47184306, 5.47813254, 5.48442201, 5.49071148, 5.49700096,\n",
       "       5.50329043, 5.50957991, 5.51586938, 5.52215886, 5.52844833,\n",
       "       5.53473781, 5.54102728, 5.54731676, 5.55360623, 5.55989571,\n",
       "       5.56618518, 5.57247466, 5.57876413, 5.58505361, 5.59134308,\n",
       "       5.59763256, 5.60392203, 5.61021151, 5.61650098, 5.62279046,\n",
       "       5.62907993, 5.6353694 , 5.64165888, 5.64794835, 5.65423783,\n",
       "       5.6605273 , 5.66681678, 5.67310625, 5.67939573, 5.6856852 ,\n",
       "       5.69197468, 5.69826415, 5.70455363, 5.7108431 , 5.71713258,\n",
       "       5.72342205, 5.72971153, 5.736001  , 5.74229048, 5.74857995,\n",
       "       5.75486943, 5.7611589 , 5.76744838, 5.77373785, 5.78002732,\n",
       "       5.7863168 , 5.79260627, 5.79889575, 5.80518522, 5.8114747 ,\n",
       "       5.81776417, 5.82405365, 5.83034312, 5.8366326 , 5.84292207,\n",
       "       5.84921155, 5.85550102, 5.8617905 , 5.86807997, 5.87436945,\n",
       "       5.88065892, 5.8869484 , 5.89323787, 5.89952735, 5.90581682,\n",
       "       5.9121063 , 5.91839577, 5.92468524, 5.93097472, 5.93726419,\n",
       "       5.94355367, 5.94984314, 5.95613262, 5.96242209, 5.96871157,\n",
       "       5.97500104, 5.98129052, 5.98757999, 5.99386947, 6.00015894,\n",
       "       6.00644842, 6.01273789, 6.01902737, 6.02531684, 6.03160632,\n",
       "       6.03789579, 6.04418527, 6.05047474, 6.05676422, 6.06305369,\n",
       "       6.06934316, 6.07563264, 6.08192211, 6.08821159, 6.09450106,\n",
       "       6.10079054, 6.10708001, 6.11336949, 6.11965896, 6.12594844,\n",
       "       6.13223791, 6.13852739, 6.14481686, 6.15110634, 6.15739581,\n",
       "       6.16368529, 6.16997476, 6.17626424, 6.18255371, 6.18884319,\n",
       "       6.19513266, 6.20142214, 6.20771161, 6.21400108, 6.22029056,\n",
       "       6.22658003, 6.23286951, 6.23915898, 6.24544846, 6.25173793,\n",
       "       6.25802741, 6.26431688, 6.27060636, 6.27689583, 6.28318531])"
      ]
     },
     "execution_count": 46,
     "metadata": {},
     "output_type": "execute_result"
    }
   ],
   "source": [
    "x = np.linspace(0, 2*math.pi, 1000)\n",
    "x"
   ]
  },
  {
   "cell_type": "markdown",
   "id": "45049d38",
   "metadata": {},
   "source": [
    "Now we compute the sin of every single one of those 1000 numbers, simply by:"
   ]
  },
  {
   "cell_type": "code",
   "execution_count": 47,
   "id": "f7ab290c",
   "metadata": {},
   "outputs": [
    {
     "data": {
      "text/plain": [
       "array([ 0.00000000e+00,  6.28943332e-03,  1.25786178e-02,  1.88673048e-02,\n",
       "        2.51552454e-02,  3.14421909e-02,  3.77278927e-02,  4.40121020e-02,\n",
       "        5.02945704e-02,  5.65750492e-02,  6.28532900e-02,  6.91290446e-02,\n",
       "        7.54020646e-02,  8.16721019e-02,  8.79389084e-02,  9.42022363e-02,\n",
       "        1.00461838e-01,  1.06717465e-01,  1.12968871e-01,  1.19215809e-01,\n",
       "        1.25458030e-01,  1.31695289e-01,  1.37927338e-01,  1.44153931e-01,\n",
       "        1.50374822e-01,  1.56589764e-01,  1.62798512e-01,  1.69000820e-01,\n",
       "        1.75196443e-01,  1.81385136e-01,  1.87566653e-01,  1.93740751e-01,\n",
       "        1.99907185e-01,  2.06065711e-01,  2.12216086e-01,  2.18358066e-01,\n",
       "        2.24491409e-01,  2.30615871e-01,  2.36731210e-01,  2.42837185e-01,\n",
       "        2.48933554e-01,  2.55020076e-01,  2.61096510e-01,  2.67162616e-01,\n",
       "        2.73218154e-01,  2.79262883e-01,  2.85296566e-01,  2.91318963e-01,\n",
       "        2.97329837e-01,  3.03328948e-01,  3.09316061e-01,  3.15290939e-01,\n",
       "        3.21253344e-01,  3.27203041e-01,  3.33139795e-01,  3.39063370e-01,\n",
       "        3.44973534e-01,  3.50870051e-01,  3.56752688e-01,  3.62621214e-01,\n",
       "        3.68475395e-01,  3.74315000e-01,  3.80139798e-01,  3.85949559e-01,\n",
       "        3.91744053e-01,  3.97523050e-01,  4.03286322e-01,  4.09033642e-01,\n",
       "        4.14764781e-01,  4.20479513e-01,  4.26177612e-01,  4.31858853e-01,\n",
       "        4.37523010e-01,  4.43169861e-01,  4.48799180e-01,  4.54410746e-01,\n",
       "        4.60004337e-01,  4.65579732e-01,  4.71136709e-01,  4.76675049e-01,\n",
       "        4.82194534e-01,  4.87694944e-01,  4.93176062e-01,  4.98637671e-01,\n",
       "        5.04079556e-01,  5.09501500e-01,  5.14903290e-01,  5.20284712e-01,\n",
       "        5.25645553e-01,  5.30985600e-01,  5.36304643e-01,  5.41602472e-01,\n",
       "        5.46878875e-01,  5.52133646e-01,  5.57366576e-01,  5.62577458e-01,\n",
       "        5.67766086e-01,  5.72932255e-01,  5.78075760e-01,  5.83196397e-01,\n",
       "        5.88293965e-01,  5.93368262e-01,  5.98419086e-01,  6.03446239e-01,\n",
       "        6.08449521e-01,  6.13428734e-01,  6.18383682e-01,  6.23314168e-01,\n",
       "        6.28219997e-01,  6.33100976e-01,  6.37956911e-01,  6.42787610e-01,\n",
       "        6.47592882e-01,  6.52372537e-01,  6.57126385e-01,  6.61854240e-01,\n",
       "        6.66555913e-01,  6.71231219e-01,  6.75879973e-01,  6.80501991e-01,\n",
       "        6.85097090e-01,  6.89665089e-01,  6.94205806e-01,  6.98719062e-01,\n",
       "        7.03204679e-01,  7.07662479e-01,  7.12092285e-01,  7.16493923e-01,\n",
       "        7.20867219e-01,  7.25211999e-01,  7.29528091e-01,  7.33815325e-01,\n",
       "        7.38073532e-01,  7.42302542e-01,  7.46502188e-01,  7.50672305e-01,\n",
       "        7.54812728e-01,  7.58923291e-01,  7.63003834e-01,  7.67054195e-01,\n",
       "        7.71074213e-01,  7.75063729e-01,  7.79022586e-01,  7.82950626e-01,\n",
       "        7.86847695e-01,  7.90713639e-01,  7.94548304e-01,  7.98351539e-01,\n",
       "        8.02123193e-01,  8.05863117e-01,  8.09571163e-01,  8.13247185e-01,\n",
       "        8.16891037e-01,  8.20502575e-01,  8.24081656e-01,  8.27628139e-01,\n",
       "        8.31141882e-01,  8.34622748e-01,  8.38070599e-01,  8.41485297e-01,\n",
       "        8.44866709e-01,  8.48214700e-01,  8.51529138e-01,  8.54809891e-01,\n",
       "        8.58056831e-01,  8.61269828e-01,  8.64448755e-01,  8.67593488e-01,\n",
       "        8.70703900e-01,  8.73779870e-01,  8.76821275e-01,  8.79827996e-01,\n",
       "        8.82799913e-01,  8.85736908e-01,  8.88638867e-01,  8.91505673e-01,\n",
       "        8.94337213e-01,  8.97133376e-01,  8.99894051e-01,  9.02619128e-01,\n",
       "        9.05308500e-01,  9.07962060e-01,  9.10579704e-01,  9.13161327e-01,\n",
       "        9.15706829e-01,  9.18216107e-01,  9.20689063e-01,  9.23125599e-01,\n",
       "        9.25525619e-01,  9.27889027e-01,  9.30215731e-01,  9.32505637e-01,\n",
       "        9.34758657e-01,  9.36974699e-01,  9.39153678e-01,  9.41295506e-01,\n",
       "        9.43400098e-01,  9.45467373e-01,  9.47497247e-01,  9.49489640e-01,\n",
       "        9.51444475e-01,  9.53361672e-01,  9.55241158e-01,  9.57082856e-01,\n",
       "        9.58886695e-01,  9.60652602e-01,  9.62380509e-01,  9.64070347e-01,\n",
       "        9.65722048e-01,  9.67335548e-01,  9.68910783e-01,  9.70447691e-01,\n",
       "        9.71946209e-01,  9.73406281e-01,  9.74827847e-01,  9.76210851e-01,\n",
       "        9.77555239e-01,  9.78860957e-01,  9.80127955e-01,  9.81356181e-01,\n",
       "        9.82545587e-01,  9.83696126e-01,  9.84807753e-01,  9.85880423e-01,\n",
       "        9.86914095e-01,  9.87908727e-01,  9.88864280e-01,  9.89780716e-01,\n",
       "        9.90657999e-01,  9.91496094e-01,  9.92294968e-01,  9.93054589e-01,\n",
       "        9.93774928e-01,  9.94455956e-01,  9.95097645e-01,  9.95699972e-01,\n",
       "        9.96262911e-01,  9.96786440e-01,  9.97270539e-01,  9.97715189e-01,\n",
       "        9.98120372e-01,  9.98486072e-01,  9.98812274e-01,  9.99098966e-01,\n",
       "        9.99346136e-01,  9.99553775e-01,  9.99721874e-01,  9.99850427e-01,\n",
       "        9.99939428e-01,  9.99988874e-01,  9.99998764e-01,  9.99969096e-01,\n",
       "        9.99899872e-01,  9.99791094e-01,  9.99642768e-01,  9.99454898e-01,\n",
       "        9.99227492e-01,  9.98960560e-01,  9.98654111e-01,  9.98308158e-01,\n",
       "        9.97922715e-01,  9.97497797e-01,  9.97033420e-01,  9.96529603e-01,\n",
       "        9.95986366e-01,  9.95403731e-01,  9.94781719e-01,  9.94120357e-01,\n",
       "        9.93419671e-01,  9.92679687e-01,  9.91900435e-01,  9.91081947e-01,\n",
       "        9.90224253e-01,  9.89327390e-01,  9.88391391e-01,  9.87416293e-01,\n",
       "        9.86402137e-01,  9.85348960e-01,  9.84256806e-01,  9.83125718e-01,\n",
       "        9.81955739e-01,  9.80746917e-01,  9.79499299e-01,  9.78212935e-01,\n",
       "        9.76887875e-01,  9.75524172e-01,  9.74121880e-01,  9.72681055e-01,\n",
       "        9.71201752e-01,  9.69684032e-01,  9.68127953e-01,  9.66533578e-01,\n",
       "        9.64900969e-01,  9.63230191e-01,  9.61521310e-01,  9.59774394e-01,\n",
       "        9.57989512e-01,  9.56166735e-01,  9.54306134e-01,  9.52407783e-01,\n",
       "        9.50471757e-01,  9.48498134e-01,  9.46486990e-01,  9.44438405e-01,\n",
       "        9.42352462e-01,  9.40229241e-01,  9.38068827e-01,  9.35871306e-01,\n",
       "        9.33636764e-01,  9.31365289e-01,  9.29056973e-01,  9.26711905e-01,\n",
       "        9.24330180e-01,  9.21911890e-01,  9.19457131e-01,  9.16966002e-01,\n",
       "        9.14438599e-01,  9.11875024e-01,  9.09275378e-01,  9.06639763e-01,\n",
       "        9.03968283e-01,  9.01261046e-01,  8.98518156e-01,  8.95739724e-01,\n",
       "        8.92925858e-01,  8.90076671e-01,  8.87192274e-01,  8.84272783e-01,\n",
       "        8.81318312e-01,  8.78328979e-01,  8.75304901e-01,  8.72246198e-01,\n",
       "        8.69152992e-01,  8.66025404e-01,  8.62863558e-01,  8.59667580e-01,\n",
       "        8.56437596e-01,  8.53173733e-01,  8.49876121e-01,  8.46544890e-01,\n",
       "        8.43180172e-01,  8.39782100e-01,  8.36350809e-01,  8.32886434e-01,\n",
       "        8.29389112e-01,  8.25858981e-01,  8.22296182e-01,  8.18700854e-01,\n",
       "        8.15073141e-01,  8.11413186e-01,  8.07721134e-01,  8.03997130e-01,\n",
       "        8.00241323e-01,  7.96453860e-01,  7.92634891e-01,  7.88784567e-01,\n",
       "        7.84903042e-01,  7.80990468e-01,  7.77046999e-01,  7.73072793e-01,\n",
       "        7.69068007e-01,  7.65032797e-01,  7.60967326e-01,  7.56871752e-01,\n",
       "        7.52746238e-01,  7.48590948e-01,  7.44406046e-01,  7.40191697e-01,\n",
       "        7.35948067e-01,  7.31675326e-01,  7.27373642e-01,  7.23043184e-01,\n",
       "        7.18684125e-01,  7.14296636e-01,  7.09880892e-01,  7.05437067e-01,\n",
       "        7.00965337e-01,  6.96465878e-01,  6.91938869e-01,  6.87384489e-01,\n",
       "        6.82802917e-01,  6.78194336e-01,  6.73558927e-01,  6.68896874e-01,\n",
       "        6.64208361e-01,  6.59493574e-01,  6.54752698e-01,  6.49985923e-01,\n",
       "        6.45193436e-01,  6.40375427e-01,  6.35532086e-01,  6.30663605e-01,\n",
       "        6.25770177e-01,  6.20851995e-01,  6.15909254e-01,  6.10942149e-01,\n",
       "        6.05950876e-01,  6.00935634e-01,  5.95896621e-01,  5.90834035e-01,\n",
       "        5.85748078e-01,  5.80638949e-01,  5.75506853e-01,  5.70351991e-01,\n",
       "        5.65174567e-01,  5.59974786e-01,  5.54752854e-01,  5.49508978e-01,\n",
       "        5.44243365e-01,  5.38956222e-01,  5.33647760e-01,  5.28318189e-01,\n",
       "        5.22967718e-01,  5.17596560e-01,  5.12204928e-01,  5.06793034e-01,\n",
       "        5.01361093e-01,  4.95909319e-01,  4.90437928e-01,  4.84947137e-01,\n",
       "        4.79437162e-01,  4.73908223e-01,  4.68360536e-01,  4.62794323e-01,\n",
       "        4.57209803e-01,  4.51607196e-01,  4.45986726e-01,  4.40348613e-01,\n",
       "        4.34693081e-01,  4.29020354e-01,  4.23330656e-01,  4.17624212e-01,\n",
       "        4.11901248e-01,  4.06161991e-01,  4.00406666e-01,  3.94635503e-01,\n",
       "        3.88848729e-01,  3.83046573e-01,  3.77229264e-01,  3.71397034e-01,\n",
       "        3.65550112e-01,  3.59688730e-01,  3.53813119e-01,  3.47923513e-01,\n",
       "        3.42020143e-01,  3.36103245e-01,  3.30173050e-01,  3.24229795e-01,\n",
       "        3.18273715e-01,  3.12305044e-01,  3.06324020e-01,  3.00330878e-01,\n",
       "        2.94325855e-01,  2.88309190e-01,  2.82281120e-01,  2.76241884e-01,\n",
       "        2.70191721e-01,  2.64130869e-01,  2.58059569e-01,  2.51978061e-01,\n",
       "        2.45886586e-01,  2.39785383e-01,  2.33674696e-01,  2.27554765e-01,\n",
       "        2.21425832e-01,  2.15288141e-01,  2.09141933e-01,  2.02987452e-01,\n",
       "        1.96824941e-01,  1.90654645e-01,  1.84476807e-01,  1.78291671e-01,\n",
       "        1.72099483e-01,  1.65900487e-01,  1.59694928e-01,  1.53483052e-01,\n",
       "        1.47265105e-01,  1.41041332e-01,  1.34811980e-01,  1.28577295e-01,\n",
       "        1.22337524e-01,  1.16092914e-01,  1.09843712e-01,  1.03590164e-01,\n",
       "        9.73325184e-02,  9.10710227e-02,  8.48059245e-02,  7.85374716e-02,\n",
       "        7.22659119e-02,  6.59914936e-02,  5.97144649e-02,  5.34350740e-02,\n",
       "        4.71535694e-02,  4.08701994e-02,  3.45852128e-02,  2.82988581e-02,\n",
       "        2.20113839e-02,  1.57230391e-02,  9.43407223e-03,  3.14473221e-03,\n",
       "       -3.14473221e-03, -9.43407223e-03, -1.57230391e-02, -2.20113839e-02,\n",
       "       -2.82988581e-02, -3.45852128e-02, -4.08701994e-02, -4.71535694e-02,\n",
       "       -5.34350740e-02, -5.97144649e-02, -6.59914936e-02, -7.22659119e-02,\n",
       "       -7.85374716e-02, -8.48059245e-02, -9.10710227e-02, -9.73325184e-02,\n",
       "       -1.03590164e-01, -1.09843712e-01, -1.16092914e-01, -1.22337524e-01,\n",
       "       -1.28577295e-01, -1.34811980e-01, -1.41041332e-01, -1.47265105e-01,\n",
       "       -1.53483052e-01, -1.59694928e-01, -1.65900487e-01, -1.72099483e-01,\n",
       "       -1.78291671e-01, -1.84476807e-01, -1.90654645e-01, -1.96824941e-01,\n",
       "       -2.02987452e-01, -2.09141933e-01, -2.15288141e-01, -2.21425832e-01,\n",
       "       -2.27554765e-01, -2.33674696e-01, -2.39785383e-01, -2.45886586e-01,\n",
       "       -2.51978061e-01, -2.58059569e-01, -2.64130869e-01, -2.70191721e-01,\n",
       "       -2.76241884e-01, -2.82281120e-01, -2.88309190e-01, -2.94325855e-01,\n",
       "       -3.00330878e-01, -3.06324020e-01, -3.12305044e-01, -3.18273715e-01,\n",
       "       -3.24229795e-01, -3.30173050e-01, -3.36103245e-01, -3.42020143e-01,\n",
       "       -3.47923513e-01, -3.53813119e-01, -3.59688730e-01, -3.65550112e-01,\n",
       "       -3.71397034e-01, -3.77229264e-01, -3.83046573e-01, -3.88848729e-01,\n",
       "       -3.94635503e-01, -4.00406666e-01, -4.06161991e-01, -4.11901248e-01,\n",
       "       -4.17624212e-01, -4.23330656e-01, -4.29020354e-01, -4.34693081e-01,\n",
       "       -4.40348613e-01, -4.45986726e-01, -4.51607196e-01, -4.57209803e-01,\n",
       "       -4.62794323e-01, -4.68360536e-01, -4.73908223e-01, -4.79437162e-01,\n",
       "       -4.84947137e-01, -4.90437928e-01, -4.95909319e-01, -5.01361093e-01,\n",
       "       -5.06793034e-01, -5.12204928e-01, -5.17596560e-01, -5.22967718e-01,\n",
       "       -5.28318189e-01, -5.33647760e-01, -5.38956222e-01, -5.44243365e-01,\n",
       "       -5.49508978e-01, -5.54752854e-01, -5.59974786e-01, -5.65174567e-01,\n",
       "       -5.70351991e-01, -5.75506853e-01, -5.80638949e-01, -5.85748078e-01,\n",
       "       -5.90834035e-01, -5.95896621e-01, -6.00935634e-01, -6.05950876e-01,\n",
       "       -6.10942149e-01, -6.15909254e-01, -6.20851995e-01, -6.25770177e-01,\n",
       "       -6.30663605e-01, -6.35532086e-01, -6.40375427e-01, -6.45193436e-01,\n",
       "       -6.49985923e-01, -6.54752698e-01, -6.59493574e-01, -6.64208361e-01,\n",
       "       -6.68896874e-01, -6.73558927e-01, -6.78194336e-01, -6.82802917e-01,\n",
       "       -6.87384489e-01, -6.91938869e-01, -6.96465878e-01, -7.00965337e-01,\n",
       "       -7.05437067e-01, -7.09880892e-01, -7.14296636e-01, -7.18684125e-01,\n",
       "       -7.23043184e-01, -7.27373642e-01, -7.31675326e-01, -7.35948067e-01,\n",
       "       -7.40191697e-01, -7.44406046e-01, -7.48590948e-01, -7.52746238e-01,\n",
       "       -7.56871752e-01, -7.60967326e-01, -7.65032797e-01, -7.69068007e-01,\n",
       "       -7.73072793e-01, -7.77046999e-01, -7.80990468e-01, -7.84903042e-01,\n",
       "       -7.88784567e-01, -7.92634891e-01, -7.96453860e-01, -8.00241323e-01,\n",
       "       -8.03997130e-01, -8.07721134e-01, -8.11413186e-01, -8.15073141e-01,\n",
       "       -8.18700854e-01, -8.22296182e-01, -8.25858981e-01, -8.29389112e-01,\n",
       "       -8.32886434e-01, -8.36350809e-01, -8.39782100e-01, -8.43180172e-01,\n",
       "       -8.46544890e-01, -8.49876121e-01, -8.53173733e-01, -8.56437596e-01,\n",
       "       -8.59667580e-01, -8.62863558e-01, -8.66025404e-01, -8.69152992e-01,\n",
       "       -8.72246198e-01, -8.75304901e-01, -8.78328979e-01, -8.81318312e-01,\n",
       "       -8.84272783e-01, -8.87192274e-01, -8.90076671e-01, -8.92925858e-01,\n",
       "       -8.95739724e-01, -8.98518156e-01, -9.01261046e-01, -9.03968283e-01,\n",
       "       -9.06639763e-01, -9.09275378e-01, -9.11875024e-01, -9.14438599e-01,\n",
       "       -9.16966002e-01, -9.19457131e-01, -9.21911890e-01, -9.24330180e-01,\n",
       "       -9.26711905e-01, -9.29056973e-01, -9.31365289e-01, -9.33636764e-01,\n",
       "       -9.35871306e-01, -9.38068827e-01, -9.40229241e-01, -9.42352462e-01,\n",
       "       -9.44438405e-01, -9.46486990e-01, -9.48498134e-01, -9.50471757e-01,\n",
       "       -9.52407783e-01, -9.54306134e-01, -9.56166735e-01, -9.57989512e-01,\n",
       "       -9.59774394e-01, -9.61521310e-01, -9.63230191e-01, -9.64900969e-01,\n",
       "       -9.66533578e-01, -9.68127953e-01, -9.69684032e-01, -9.71201752e-01,\n",
       "       -9.72681055e-01, -9.74121880e-01, -9.75524172e-01, -9.76887875e-01,\n",
       "       -9.78212935e-01, -9.79499299e-01, -9.80746917e-01, -9.81955739e-01,\n",
       "       -9.83125718e-01, -9.84256806e-01, -9.85348960e-01, -9.86402137e-01,\n",
       "       -9.87416293e-01, -9.88391391e-01, -9.89327390e-01, -9.90224253e-01,\n",
       "       -9.91081947e-01, -9.91900435e-01, -9.92679687e-01, -9.93419671e-01,\n",
       "       -9.94120357e-01, -9.94781719e-01, -9.95403731e-01, -9.95986366e-01,\n",
       "       -9.96529603e-01, -9.97033420e-01, -9.97497797e-01, -9.97922715e-01,\n",
       "       -9.98308158e-01, -9.98654111e-01, -9.98960560e-01, -9.99227492e-01,\n",
       "       -9.99454898e-01, -9.99642768e-01, -9.99791094e-01, -9.99899872e-01,\n",
       "       -9.99969096e-01, -9.99998764e-01, -9.99988874e-01, -9.99939428e-01,\n",
       "       -9.99850427e-01, -9.99721874e-01, -9.99553775e-01, -9.99346136e-01,\n",
       "       -9.99098966e-01, -9.98812274e-01, -9.98486072e-01, -9.98120372e-01,\n",
       "       -9.97715189e-01, -9.97270539e-01, -9.96786440e-01, -9.96262911e-01,\n",
       "       -9.95699972e-01, -9.95097645e-01, -9.94455956e-01, -9.93774928e-01,\n",
       "       -9.93054589e-01, -9.92294968e-01, -9.91496094e-01, -9.90657999e-01,\n",
       "       -9.89780716e-01, -9.88864280e-01, -9.87908727e-01, -9.86914095e-01,\n",
       "       -9.85880423e-01, -9.84807753e-01, -9.83696126e-01, -9.82545587e-01,\n",
       "       -9.81356181e-01, -9.80127955e-01, -9.78860957e-01, -9.77555239e-01,\n",
       "       -9.76210851e-01, -9.74827847e-01, -9.73406281e-01, -9.71946209e-01,\n",
       "       -9.70447691e-01, -9.68910783e-01, -9.67335548e-01, -9.65722048e-01,\n",
       "       -9.64070347e-01, -9.62380509e-01, -9.60652602e-01, -9.58886695e-01,\n",
       "       -9.57082856e-01, -9.55241158e-01, -9.53361672e-01, -9.51444475e-01,\n",
       "       -9.49489640e-01, -9.47497247e-01, -9.45467373e-01, -9.43400098e-01,\n",
       "       -9.41295506e-01, -9.39153678e-01, -9.36974699e-01, -9.34758657e-01,\n",
       "       -9.32505637e-01, -9.30215731e-01, -9.27889027e-01, -9.25525619e-01,\n",
       "       -9.23125599e-01, -9.20689063e-01, -9.18216107e-01, -9.15706829e-01,\n",
       "       -9.13161327e-01, -9.10579704e-01, -9.07962060e-01, -9.05308500e-01,\n",
       "       -9.02619128e-01, -8.99894051e-01, -8.97133376e-01, -8.94337213e-01,\n",
       "       -8.91505673e-01, -8.88638867e-01, -8.85736908e-01, -8.82799913e-01,\n",
       "       -8.79827996e-01, -8.76821275e-01, -8.73779870e-01, -8.70703900e-01,\n",
       "       -8.67593488e-01, -8.64448755e-01, -8.61269828e-01, -8.58056831e-01,\n",
       "       -8.54809891e-01, -8.51529138e-01, -8.48214700e-01, -8.44866709e-01,\n",
       "       -8.41485297e-01, -8.38070599e-01, -8.34622748e-01, -8.31141882e-01,\n",
       "       -8.27628139e-01, -8.24081656e-01, -8.20502575e-01, -8.16891037e-01,\n",
       "       -8.13247185e-01, -8.09571163e-01, -8.05863117e-01, -8.02123193e-01,\n",
       "       -7.98351539e-01, -7.94548304e-01, -7.90713639e-01, -7.86847695e-01,\n",
       "       -7.82950626e-01, -7.79022586e-01, -7.75063729e-01, -7.71074213e-01,\n",
       "       -7.67054195e-01, -7.63003834e-01, -7.58923291e-01, -7.54812728e-01,\n",
       "       -7.50672305e-01, -7.46502188e-01, -7.42302542e-01, -7.38073532e-01,\n",
       "       -7.33815325e-01, -7.29528091e-01, -7.25211999e-01, -7.20867219e-01,\n",
       "       -7.16493923e-01, -7.12092285e-01, -7.07662479e-01, -7.03204679e-01,\n",
       "       -6.98719062e-01, -6.94205806e-01, -6.89665089e-01, -6.85097090e-01,\n",
       "       -6.80501991e-01, -6.75879973e-01, -6.71231219e-01, -6.66555913e-01,\n",
       "       -6.61854240e-01, -6.57126385e-01, -6.52372537e-01, -6.47592882e-01,\n",
       "       -6.42787610e-01, -6.37956911e-01, -6.33100976e-01, -6.28219997e-01,\n",
       "       -6.23314168e-01, -6.18383682e-01, -6.13428734e-01, -6.08449521e-01,\n",
       "       -6.03446239e-01, -5.98419086e-01, -5.93368262e-01, -5.88293965e-01,\n",
       "       -5.83196397e-01, -5.78075760e-01, -5.72932255e-01, -5.67766086e-01,\n",
       "       -5.62577458e-01, -5.57366576e-01, -5.52133646e-01, -5.46878875e-01,\n",
       "       -5.41602472e-01, -5.36304643e-01, -5.30985600e-01, -5.25645553e-01,\n",
       "       -5.20284712e-01, -5.14903290e-01, -5.09501500e-01, -5.04079556e-01,\n",
       "       -4.98637671e-01, -4.93176062e-01, -4.87694944e-01, -4.82194534e-01,\n",
       "       -4.76675049e-01, -4.71136709e-01, -4.65579732e-01, -4.60004337e-01,\n",
       "       -4.54410746e-01, -4.48799180e-01, -4.43169861e-01, -4.37523010e-01,\n",
       "       -4.31858853e-01, -4.26177612e-01, -4.20479513e-01, -4.14764781e-01,\n",
       "       -4.09033642e-01, -4.03286322e-01, -3.97523050e-01, -3.91744053e-01,\n",
       "       -3.85949559e-01, -3.80139798e-01, -3.74315000e-01, -3.68475395e-01,\n",
       "       -3.62621214e-01, -3.56752688e-01, -3.50870051e-01, -3.44973534e-01,\n",
       "       -3.39063370e-01, -3.33139795e-01, -3.27203041e-01, -3.21253344e-01,\n",
       "       -3.15290939e-01, -3.09316061e-01, -3.03328948e-01, -2.97329837e-01,\n",
       "       -2.91318963e-01, -2.85296566e-01, -2.79262883e-01, -2.73218154e-01,\n",
       "       -2.67162616e-01, -2.61096510e-01, -2.55020076e-01, -2.48933554e-01,\n",
       "       -2.42837185e-01, -2.36731210e-01, -2.30615871e-01, -2.24491409e-01,\n",
       "       -2.18358066e-01, -2.12216086e-01, -2.06065711e-01, -1.99907185e-01,\n",
       "       -1.93740751e-01, -1.87566653e-01, -1.81385136e-01, -1.75196443e-01,\n",
       "       -1.69000820e-01, -1.62798512e-01, -1.56589764e-01, -1.50374822e-01,\n",
       "       -1.44153931e-01, -1.37927338e-01, -1.31695289e-01, -1.25458030e-01,\n",
       "       -1.19215809e-01, -1.12968871e-01, -1.06717465e-01, -1.00461838e-01,\n",
       "       -9.42022363e-02, -8.79389084e-02, -8.16721019e-02, -7.54020646e-02,\n",
       "       -6.91290446e-02, -6.28532900e-02, -5.65750492e-02, -5.02945704e-02,\n",
       "       -4.40121020e-02, -3.77278927e-02, -3.14421909e-02, -2.51552454e-02,\n",
       "       -1.88673048e-02, -1.25786178e-02, -6.28943332e-03, -2.44929360e-16])"
      ]
     },
     "execution_count": 47,
     "metadata": {},
     "output_type": "execute_result"
    }
   ],
   "source": [
    "y = np.sin(x)\n",
    "y"
   ]
  },
  {
   "cell_type": "markdown",
   "id": "c581b5cc",
   "metadata": {},
   "source": [
    "Now we can simply visualise this x and y data with `matplotlib` with the following command:"
   ]
  },
  {
   "cell_type": "code",
   "execution_count": 48,
   "id": "c9ab581f-15de-49d1-bbf7-5cce29428baf",
   "metadata": {},
   "outputs": [
    {
     "data": {
      "text/plain": [
       "[<matplotlib.lines.Line2D at 0x7ff25c47d0d0>]"
      ]
     },
     "execution_count": 48,
     "metadata": {},
     "output_type": "execute_result"
    },
    {
     "data": {
      "image/png": "[encoded data removed]",
      "text/plain": [
       "<Figure size 432x288 with 1 Axes>"
      ]
     },
     "metadata": {
      "needs_background": "light"
     },
     "output_type": "display_data"
    }
   ],
   "source": [
    "plt.plot(x, y)"
   ]
  },
  {
   "cell_type": "markdown",
   "id": "dddb0e0b",
   "metadata": {},
   "source": [
    "And that's all! You just created your first plot with Python. :)"
   ]
  },
  {
   "cell_type": "markdown",
   "id": "ce8b59c5",
   "metadata": {},
   "source": [
    "If you're interested, you can change the number 1000 in the example above to 10 and re-run the cells after. You will see that the curve has a much lower resolution. So in this case, we can see the number 1000, as our resolution of the curve!"
   ]
  },
  {
   "cell_type": "code",
   "execution_count": null,
   "id": "a810eb33",
   "metadata": {},
   "outputs": [],
   "source": []
  }
 ],
 "metadata": {
  "kernelspec": {
   "display_name": "Python 3 (ipykernel)",
   "language": "python",
   "name": "python3"
  },
  "language_info": {
   "codemirror_mode": {
    "name": "ipython",
    "version": 3
   },
   "file_extension": ".py",
   "mimetype": "text/x-python",
   "name": "python",
   "nbconvert_exporter": "python",
   "pygments_lexer": "ipython3",
   "version": "3.9.6"
  }
 },
 "nbformat": 4,
 "nbformat_minor": 5
}
